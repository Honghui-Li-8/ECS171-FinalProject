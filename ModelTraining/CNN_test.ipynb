{
 "cells": [
  {
   "cell_type": "markdown",
   "metadata": {},
   "source": [
    "### Build Our Model"
   ]
  },
  {
   "cell_type": "code",
   "execution_count": 5,
   "metadata": {
    "vscode": {
     "languageId": "plaintext"
    }
   },
   "outputs": [],
   "source": [
    "import tensorflow as tf\n",
    "from tensorflow.keras import datasets, layers, models\n",
    "import numpy as np\n",
    "import pandas as pd\n",
    "import matplotlib.pyplot as plt\n",
    "import os"
   ]
  },
  {
   "cell_type": "code",
   "execution_count": 6,
   "metadata": {},
   "outputs": [
    {
     "name": "stdout",
     "output_type": "stream",
     "text": [
      "=======starting======\n",
      "500\n",
      "1000\n",
      "1500\n",
      "2000\n",
      "2500\n",
      "3000\n",
      "['0' '1' '2' '3' '4' '5' '6' '7' '8' '9' 'A' 'B' 'C' 'D' 'E' 'F' 'G' 'H'\n",
      " 'I' 'J' 'K' 'L' 'M' 'N' 'O' 'P' 'Q' 'R' 'S' 'T' 'U' 'V' 'W' 'X' 'Y' 'Z'\n",
      " 'a' 'b' 'c' 'd' 'e' 'f' 'g' 'h' 'i' 'j' 'k' 'l' 'm' 'n' 'o' 'p' 'q' 'r'\n",
      " 's' 't' 'u' 'v' 'w' 'x' 'y' 'z']\n",
      "=======done======\n"
     ]
    }
   ],
   "source": [
    "from sklearn.model_selection import train_test_split\n",
    "\n",
    "dataset = pd.read_csv('archive/english.csv')\n",
    "directory = \"archive\"\n",
    "\n",
    "imageDatas = []\n",
    "files = dataset[\"image\"]\n",
    "label = dataset[\"label\"]\n",
    "\n",
    "i = 0\n",
    "print(\"=======starting======\")\n",
    "for fileName in files:\n",
    "    image=tf.keras.utils.load_img(os.path.join(directory,fileName),color_mode='grayscale',target_size=(100,100))\n",
    "    image=tf.keras.utils.img_to_array(image)\n",
    "    image=image/255.0\n",
    "    imageDatas+=[image]\n",
    "    i = i + 1\n",
    "    if (i % 500 == 0):\n",
    "        print(i)\n",
    "\n",
    "class_names = dataset[\"label\"].unique()\n",
    "print(class_names)\n",
    "print(\"=======done======\")\n",
    "\n",
    "# X_train, X_test, y_train, y_test = train_test_split(X, y, test_size=0.1, random_state=42)"
   ]
  },
  {
   "cell_type": "code",
   "execution_count": 7,
   "metadata": {},
   "outputs": [
    {
     "data": {
      "image/png": "[encoded data removed]",
      "text/plain": [
       "<Figure size 640x480 with 1 Axes>"
      ]
     },
     "metadata": {},
     "output_type": "display_data"
    },
    {
     "name": "stdout",
     "output_type": "stream",
     "text": [
      "label:  0\n"
     ]
    }
   ],
   "source": [
    "# varify the image data\n",
    "directory = \"archive\"\n",
    "showingImage=tf.keras.utils.load_img(os.path.join(directory,files[0]),color_mode='grayscale',target_size=(100,100))\n",
    "plt.imshow(imageDatas[0])\n",
    "plt.show()\n",
    "\n",
    "print(\"label: \", label[0])\n",
    "# print(imageDatas[0][20])"
   ]
  },
  {
   "cell_type": "code",
   "execution_count": 8,
   "metadata": {},
   "outputs": [
    {
     "name": "stdout",
     "output_type": "stream",
     "text": [
      "(100, 100, 1)\n",
      "compressed:  500  imgs\n",
      "compressed:  1000  imgs\n",
      "compressed:  1500  imgs\n",
      "compressed:  2000  imgs\n",
      "compressed:  2500  imgs\n",
      "compressed:  3000  imgs\n",
      "==\n",
      "(3410, 20, 20, 1)\n"
     ]
    },
    {
     "data": {
      "image/png": "[encoded data removed]",
      "text/plain": [
       "<Figure size 640x480 with 1 Axes>"
      ]
     },
     "metadata": {},
     "output_type": "display_data"
    }
   ],
   "source": [
    "ImageData_compressed = []\n",
    "\n",
    "print(np.array(imageDatas[0]).shape) \n",
    "\n",
    "# test = []\n",
    "# test += [imageDatas[0]]\n",
    "count = 0\n",
    "print(\"=====start compressing=====\")\n",
    "for img in imageDatas:\n",
    "    img_compressed = []\n",
    "    for i in range(20):\n",
    "        row_compressed = []\n",
    "        for j in range(20):\n",
    "            sum = 0\n",
    "            for r in range(5):\n",
    "                for c in range(5):\n",
    "                    sum += img[5 * i + r][5 *j + c]\n",
    "            row_compressed += [sum/25]\n",
    "            # print(np.array(row_compressed).shape)\n",
    "            \n",
    "        img_compressed += [row_compressed]\n",
    "        # print(np.array(img_compressed).shape)\n",
    "    ImageData_compressed += [img_compressed]\n",
    "    count += 1\n",
    "    if (count % 500 == 0):\n",
    "        print(\"compressed: \", count, \" imgs\" )\n",
    "\n",
    "print(\"=====done compressing=====\")\n",
    "print(np.array(ImageData_compressed).shape)\n",
    "plt.imshow(ImageData_compressed[0])\n",
    "# print(ImageData_compressed[0])\n",
    "plt.show()"
   ]
  },
  {
   "cell_type": "code",
   "execution_count": 9,
   "metadata": {},
   "outputs": [
    {
     "name": "stdout",
     "output_type": "stream",
     "text": [
      "['0' '1' '2' '3' '4' '5' '6' '7' '8' '9' 'A' 'B' 'C' 'D' 'E' 'F' 'G' 'H'\n",
      " 'I' 'J' 'K' 'L' 'M' 'N' 'O' 'P' 'Q' 'R' 'S' 'T' 'U' 'V' 'W' 'X' 'Y' 'Z'\n",
      " 'a' 'b' 'c' 'd' 'e' 'f' 'g' 'h' 'i' 'j' 'k' 'l' 'm' 'n' 'o' 'p' 'q' 'r'\n",
      " 's' 't' 'u' 'v' 'w' 'x' 'y' 'z']\n",
      "[0, 1, 2, 3, 4, 5, 6, 7, 8, 9, 10, 11, 12, 13, 14, 15, 16, 17, 18, 19, 20, 21, 22, 23, 24, 25, 26, 27, 28, 29, 30, 31, 32, 33, 34, 35, 36, 37, 38, 39, 40, 41, 42, 43, 44, 45, 46, 47, 48, 49, 50, 51, 52, 53, 54, 55, 56, 57, 58, 59, 60, 61]\n"
     ]
    }
   ],
   "source": [
    "def getIndex(letter):\n",
    "    index = ord(letter)-48\n",
    "    if (index > 10):\n",
    "        index -= 7\n",
    "    if (index > 35):\n",
    "        index -= 6\n",
    "    return index\n",
    "\n",
    "# process label to number\n",
    "letters = label.unique()\n",
    "print(letters)\n",
    "\n",
    "# checking\n",
    "indexs = []\n",
    "for l in letters:\n",
    "    indexs += [getIndex(l)]\n",
    "\n",
    "print(indexs)\n",
    "for i in range(61):\n",
    "    if (i != indexs[i]):\n",
    "        print(\"error in: \", i)"
   ]
  },
  {
   "cell_type": "code",
   "execution_count": 10,
   "metadata": {},
   "outputs": [
    {
     "name": "stdout",
     "output_type": "stream",
     "text": [
      "data splited\n"
     ]
    }
   ],
   "source": [
    "data_nparr=np.array(ImageData_compressed)\n",
    "# data_nparr=np.array(ImageData_compressed_type2)\n",
    "# data_nparr=np.array(imageDatas)\n",
    "label_nparr=np.array(label)\n",
    "label_index_nparr = np.vectorize(getIndex)(label_nparr)\n",
    "\n",
    "train_data, test_data, train_label, test_label = train_test_split(data_nparr, label_index_nparr, test_size=0.1, random_state=42)\n",
    "print(\"data splited\")"
   ]
  },
  {
   "cell_type": "code",
   "execution_count": 11,
   "metadata": {},
   "outputs": [
    {
     "name": "stdout",
     "output_type": "stream",
     "text": [
      "layer added\n",
      "Model: \"sequential_1\"\n",
      "_________________________________________________________________\n",
      " Layer (type)                Output Shape              Param #   \n",
      "=================================================================\n",
      " conv2d_3 (Conv2D)           (None, 18, 18, 32)        320       \n",
      "                                                                 \n",
      " max_pooling2d_2 (MaxPooling  (None, 9, 9, 32)         0         \n",
      " 2D)                                                             \n",
      "                                                                 \n",
      " conv2d_4 (Conv2D)           (None, 7, 7, 64)          18496     \n",
      "                                                                 \n",
      " max_pooling2d_3 (MaxPooling  (None, 3, 3, 64)         0         \n",
      " 2D)                                                             \n",
      "                                                                 \n",
      " conv2d_5 (Conv2D)           (None, 1, 1, 64)          36928     \n",
      "                                                                 \n",
      " flatten_1 (Flatten)         (None, 64)                0         \n",
      "                                                                 \n",
      " dense_2 (Dense)             (None, 64)                4160      \n",
      "                                                                 \n",
      " dense_3 (Dense)             (None, 62)                4030      \n",
      "                                                                 \n",
      "=================================================================\n",
      "Total params: 63,934\n",
      "Trainable params: 63,934\n",
      "Non-trainable params: 0\n",
      "_________________________________________________________________\n"
     ]
    }
   ],
   "source": [
    "import tensorflow as tf\n",
    "from tensorflow.keras import datasets, layers, models\n",
    "\n",
    "model = models.Sequential()\n",
    "model.add(layers.Conv2D(32, (3, 3), activation='relu', input_shape=(20, 20, 1))) # compressed (20 x 20)\n",
    "# model.add(layers.Conv2D(32, (3, 3), activation='relu', input_shape=(100, 100, 1))) # uncompressed (100 x 100)\n",
    "model.add(layers.MaxPooling2D((2, 2)))\n",
    "model.add(layers.Conv2D(64, (3, 3), activation='relu'))\n",
    "model.add(layers.MaxPooling2D((2, 2)))\n",
    "model.add(layers.Conv2D(64, (3, 3), activation='relu'))\n",
    "\n",
    "model.add(layers.Flatten())\n",
    "model.add(layers.Dense(64, activation='relu'))\n",
    "model.add(layers.Dense(62, activation='softmax'))\n",
    "print(\"layer added\")\n",
    "model.summary()"
   ]
  },
  {
   "cell_type": "code",
   "execution_count": 12,
   "metadata": {},
   "outputs": [
    {
     "name": "stdout",
     "output_type": "stream",
     "text": [
      "======start training======\n",
      "Epoch 1/30\n",
      "96/96 [==============================] - 156s 2s/step - loss: 4.1265 - accuracy: 0.0176 - val_loss: 4.1067 - val_accuracy: 0.0499\n",
      "Epoch 2/30\n",
      "96/96 [==============================] - 33s 329ms/step - loss: 3.8750 - accuracy: 0.0606 - val_loss: 3.4952 - val_accuracy: 0.1056\n",
      "Epoch 3/30\n",
      "96/96 [==============================] - 4s 39ms/step - loss: 3.1263 - accuracy: 0.1906 - val_loss: 2.8795 - val_accuracy: 0.2698\n",
      "Epoch 4/30\n",
      "96/96 [==============================] - 3s 29ms/step - loss: 2.5820 - accuracy: 0.3242 - val_loss: 2.5062 - val_accuracy: 0.3343\n",
      "Epoch 5/30\n",
      "96/96 [==============================] - 3s 28ms/step - loss: 2.2045 - accuracy: 0.4141 - val_loss: 2.2095 - val_accuracy: 0.3988\n",
      "Epoch 6/30\n",
      "96/96 [==============================] - 3s 32ms/step - loss: 1.9056 - accuracy: 0.4852 - val_loss: 1.9472 - val_accuracy: 0.4721\n",
      "Epoch 7/30\n",
      "96/96 [==============================] - 3s 32ms/step - loss: 1.7050 - accuracy: 0.5233 - val_loss: 1.8257 - val_accuracy: 0.4956\n",
      "Epoch 8/30\n",
      "96/96 [==============================] - 3s 27ms/step - loss: 1.5215 - accuracy: 0.5663 - val_loss: 1.6891 - val_accuracy: 0.5279\n",
      "Epoch 9/30\n",
      "96/96 [==============================] - 3s 30ms/step - loss: 1.3912 - accuracy: 0.5966 - val_loss: 1.6102 - val_accuracy: 0.5601\n",
      "Epoch 10/30\n",
      "96/96 [==============================] - 3s 26ms/step - loss: 1.3047 - accuracy: 0.6217 - val_loss: 1.5785 - val_accuracy: 0.5718\n",
      "Epoch 11/30\n",
      "96/96 [==============================] - 3s 28ms/step - loss: 1.2195 - accuracy: 0.6432 - val_loss: 1.5236 - val_accuracy: 0.5894\n",
      "Epoch 12/30\n",
      "96/96 [==============================] - 3s 32ms/step - loss: 1.1292 - accuracy: 0.6621 - val_loss: 1.3859 - val_accuracy: 0.6393\n",
      "Epoch 13/30\n",
      "96/96 [==============================] - 3s 30ms/step - loss: 1.0588 - accuracy: 0.6869 - val_loss: 1.3652 - val_accuracy: 0.6305\n",
      "Epoch 14/30\n",
      "96/96 [==============================] - 3s 29ms/step - loss: 1.0030 - accuracy: 0.6934 - val_loss: 1.2967 - val_accuracy: 0.6452\n",
      "Epoch 15/30\n",
      "96/96 [==============================] - 3s 28ms/step - loss: 0.9377 - accuracy: 0.7198 - val_loss: 1.2752 - val_accuracy: 0.6657\n",
      "Epoch 16/30\n",
      "96/96 [==============================] - 3s 27ms/step - loss: 0.9145 - accuracy: 0.7250 - val_loss: 1.2821 - val_accuracy: 0.6452\n",
      "Epoch 17/30\n",
      "96/96 [==============================] - 3s 28ms/step - loss: 0.8449 - accuracy: 0.7452 - val_loss: 1.2340 - val_accuracy: 0.6510\n",
      "Epoch 18/30\n",
      "96/96 [==============================] - 3s 35ms/step - loss: 0.8046 - accuracy: 0.7481 - val_loss: 1.3576 - val_accuracy: 0.6452\n",
      "Epoch 19/30\n",
      "96/96 [==============================] - 3s 28ms/step - loss: 0.7844 - accuracy: 0.7543 - val_loss: 1.2344 - val_accuracy: 0.6657\n",
      "Epoch 20/30\n",
      "96/96 [==============================] - 3s 29ms/step - loss: 0.7230 - accuracy: 0.7729 - val_loss: 1.2029 - val_accuracy: 0.6657\n",
      "Epoch 21/30\n",
      "96/96 [==============================] - 3s 26ms/step - loss: 0.7079 - accuracy: 0.7752 - val_loss: 1.1902 - val_accuracy: 0.6686\n",
      "Epoch 22/30\n",
      "96/96 [==============================] - 3s 33ms/step - loss: 0.6611 - accuracy: 0.7882 - val_loss: 1.1976 - val_accuracy: 0.6891\n",
      "Epoch 23/30\n",
      "96/96 [==============================] - 3s 27ms/step - loss: 0.6156 - accuracy: 0.8084 - val_loss: 1.2475 - val_accuracy: 0.6628\n",
      "Epoch 24/30\n",
      "96/96 [==============================] - 4s 37ms/step - loss: 0.6294 - accuracy: 0.7986 - val_loss: 1.3390 - val_accuracy: 0.6540\n",
      "Epoch 25/30\n",
      "96/96 [==============================] - 3s 29ms/step - loss: 0.5705 - accuracy: 0.8169 - val_loss: 1.2436 - val_accuracy: 0.6510\n",
      "Epoch 26/30\n",
      "96/96 [==============================] - 3s 31ms/step - loss: 0.5560 - accuracy: 0.8224 - val_loss: 1.1933 - val_accuracy: 0.6657\n",
      "Epoch 27/30\n",
      "96/96 [==============================] - 3s 36ms/step - loss: 0.5187 - accuracy: 0.8332 - val_loss: 1.2796 - val_accuracy: 0.6540\n",
      "Epoch 28/30\n",
      "96/96 [==============================] - 2s 25ms/step - loss: 0.5231 - accuracy: 0.8338 - val_loss: 1.1601 - val_accuracy: 0.6862\n",
      "Epoch 29/30\n",
      "96/96 [==============================] - 3s 29ms/step - loss: 0.4930 - accuracy: 0.8400 - val_loss: 1.2009 - val_accuracy: 0.6891\n",
      "Epoch 30/30\n",
      "96/96 [==============================] - 2s 23ms/step - loss: 0.4535 - accuracy: 0.8491 - val_loss: 1.2407 - val_accuracy: 0.6686\n",
      "======done training======\n"
     ]
    }
   ],
   "source": [
    "model.compile(optimizer='adam',\n",
    "              loss=tf.keras.losses.SparseCategoricalCrossentropy(from_logits=False),\n",
    "              metrics=['accuracy'])\n",
    "\n",
    "print(\"======start training======\")\n",
    "history = model.fit(train_data, train_label, epochs=30, \n",
    "                    validation_data=(test_data, test_label))\n",
    "print(\"======done training======\")"
   ]
  },
  {
   "cell_type": "code",
   "execution_count": 13,
   "metadata": {},
   "outputs": [
    {
     "name": "stdout",
     "output_type": "stream",
     "text": [
      "11/11 - 0s - loss: 1.2407 - accuracy: 0.6686 - 43ms/epoch - 4ms/step\n"
     ]
    },
    {
     "data": {
      "image/png": "[encoded data removed]",
      "text/plain": [
       "<Figure size 640x480 with 1 Axes>"
      ]
     },
     "metadata": {},
     "output_type": "display_data"
    }
   ],
   "source": [
    "plt.plot(history.history['accuracy'], label='accuracy')\n",
    "plt.plot(history.history['val_accuracy'], label = 'val_accuracy')\n",
    "plt.xlabel('Epoch')\n",
    "plt.ylabel('Accuracy')\n",
    "plt.ylim([0.5, 1])\n",
    "plt.legend(loc='lower right')\n",
    "\n",
    "test_loss, test_acc = model.evaluate(test_data,  test_label, verbose=2)"
   ]
  },
  {
   "cell_type": "code",
   "execution_count": null,
   "metadata": {},
   "outputs": [],
   "source": [
    "print(test_acc)"
   ]
  }
 ],
 "metadata": {
  "kernelspec": {
   "display_name": "Python 3 (ipykernel)",
   "language": "python",
   "name": "python3"
  },
  "language_info": {
   "codemirror_mode": {
    "name": "ipython",
    "version": 3
   },
   "file_extension": ".py",
   "mimetype": "text/x-python",
   "name": "python",
   "nbconvert_exporter": "python",
   "pygments_lexer": "ipython3",
   "version": "3.10.9"
  }
 },
 "nbformat": 4,
 "nbformat_minor": 4
}
