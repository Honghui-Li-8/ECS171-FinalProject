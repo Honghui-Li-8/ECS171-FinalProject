{
 "cells": [
  {
   "cell_type": "markdown",
   "metadata": {},
   "source": [
    "### Build Our Model"
   ]
  },
  {
   "cell_type": "code",
   "execution_count": 5,
   "metadata": {
    "vscode": {
     "languageId": "plaintext"
    }
   },
   "outputs": [],
   "source": [
    "import tensorflow as tf\n",
    "from tensorflow.keras import datasets, layers, models\n",
    "import numpy as np\n",
    "import pandas as pd\n",
    "import matplotlib.pyplot as plt\n",
    "import os"
   ]
  },
  {
   "cell_type": "code",
   "execution_count": 6,
   "metadata": {},
   "outputs": [
    {
     "name": "stdout",
     "output_type": "stream",
     "text": [
      "=======starting======\n",
      "500\n",
      "1000\n",
      "1500\n",
      "2000\n",
      "2500\n",
      "3000\n",
      "['0' '1' '2' '3' '4' '5' '6' '7' '8' '9' 'A' 'B' 'C' 'D' 'E' 'F' 'G' 'H'\n",
      " 'I' 'J' 'K' 'L' 'M' 'N' 'O' 'P' 'Q' 'R' 'S' 'T' 'U' 'V' 'W' 'X' 'Y' 'Z'\n",
      " 'a' 'b' 'c' 'd' 'e' 'f' 'g' 'h' 'i' 'j' 'k' 'l' 'm' 'n' 'o' 'p' 'q' 'r'\n",
      " 's' 't' 'u' 'v' 'w' 'x' 'y' 'z']\n",
      "=======done======\n"
     ]
    }
   ],
   "source": [
    "from sklearn.model_selection import train_test_split\n",
    "\n",
    "dataset = pd.read_csv('archive/english.csv')\n",
    "directory = \"archive\"\n",
    "\n",
    "imageDatas = []\n",
    "files = dataset[\"image\"]\n",
    "label = dataset[\"label\"]\n",
    "\n",
    "i = 0\n",
    "print(\"=======starting======\")\n",
    "for fileName in files:\n",
    "    image=tf.keras.utils.load_img(os.path.join(directory,fileName),color_mode='grayscale',target_size=(100,100))\n",
    "    image=tf.keras.utils.img_to_array(image)\n",
    "    image=image/255.0\n",
    "    imageDatas+=[image]\n",
    "    i = i + 1\n",
    "    if (i % 500 == 0):\n",
    "        print(i)\n",
    "\n",
    "class_names = dataset[\"label\"].unique()\n",
    "print(class_names)\n",
    "print(\"=======done======\")\n",
    "\n",
    "# X_train, X_test, y_train, y_test = train_test_split(X, y, test_size=0.1, random_state=42)"
   ]
  },
  {
   "cell_type": "code",
   "execution_count": 7,
   "metadata": {},
   "outputs": [
    {
     "data": {
      "image/png": "[encoded data removed]",
      "text/plain": [
       "<Figure size 640x480 with 1 Axes>"
      ]
     },
     "metadata": {},
     "output_type": "display_data"
    },
    {
     "name": "stdout",
     "output_type": "stream",
     "text": [
      "label:  0\n"
     ]
    }
   ],
   "source": [
    "# varify the image data\n",
    "directory = \"archive\"\n",
    "showingImage=tf.keras.utils.load_img(os.path.join(directory,files[0]),color_mode='grayscale',target_size=(100,100))\n",
    "plt.imshow(imageDatas[0])\n",
    "plt.show()\n",
    "\n",
    "print(\"label: \", label[0])\n",
    "# print(imageDatas[0][20])"
   ]
  },
  {
   "cell_type": "code",
   "execution_count": 8,
   "metadata": {},
   "outputs": [
    {
     "name": "stdout",
     "output_type": "stream",
     "text": [
      "(100, 100, 1)\n",
      "compressed:  500  imgs\n",
      "compressed:  1000  imgs\n",
      "compressed:  1500  imgs\n",
      "compressed:  2000  imgs\n",
      "compressed:  2500  imgs\n",
      "compressed:  3000  imgs\n",
      "==\n",
      "(3410, 20, 20, 1)\n"
     ]
    },
    {
     "data": {
      "image/png": "[encoded data removed]",
      "text/plain": [
       "<Figure size 640x480 with 1 Axes>"
      ]
     },
     "metadata": {},
     "output_type": "display_data"
    }
   ],
   "source": [
    "ImageData_compressed = []\n",
    "\n",
    "print(np.array(imageDatas[0]).shape) \n",
    "\n",
    "# test = []\n",
    "# test += [imageDatas[0]]\n",
    "count = 0\n",
    "print(\"=====start compressing=====\")\n",
    "for img in imageDatas:\n",
    "    img_compressed = []\n",
    "    for i in range(20):\n",
    "        row_compressed = []\n",
    "        for j in range(20):\n",
    "            sum = 0\n",
    "            for r in range(5):\n",
    "                for c in range(5):\n",
    "                    sum += img[5 * i + r][5 *j + c]\n",
    "            row_compressed += [sum/25]\n",
    "            # print(np.array(row_compressed).shape)\n",
    "            \n",
    "        img_compressed += [row_compressed]\n",
    "        # print(np.array(img_compressed).shape)\n",
    "    ImageData_compressed += [img_compressed]\n",
    "    count += 1\n",
    "    if (count % 500 == 0):\n",
    "        print(\"compressed: \", count, \" imgs\" )\n",
    "\n",
    "print(\"=====done compressing=====\")\n",
    "print(np.array(ImageData_compressed).shape)\n",
    "plt.imshow(ImageData_compressed[0])\n",
    "# print(ImageData_compressed[0])\n",
    "plt.show()"
   ]
  },
  {
   "cell_type": "code",
   "execution_count": 9,
   "metadata": {},
   "outputs": [
    {
     "name": "stdout",
     "output_type": "stream",
     "text": [
      "['0' '1' '2' '3' '4' '5' '6' '7' '8' '9' 'A' 'B' 'C' 'D' 'E' 'F' 'G' 'H'\n",
      " 'I' 'J' 'K' 'L' 'M' 'N' 'O' 'P' 'Q' 'R' 'S' 'T' 'U' 'V' 'W' 'X' 'Y' 'Z'\n",
      " 'a' 'b' 'c' 'd' 'e' 'f' 'g' 'h' 'i' 'j' 'k' 'l' 'm' 'n' 'o' 'p' 'q' 'r'\n",
      " 's' 't' 'u' 'v' 'w' 'x' 'y' 'z']\n",
      "[0, 1, 2, 3, 4, 5, 6, 7, 8, 9, 10, 11, 12, 13, 14, 15, 16, 17, 18, 19, 20, 21, 22, 23, 24, 25, 26, 27, 28, 29, 30, 31, 32, 33, 34, 35, 36, 37, 38, 39, 40, 41, 42, 43, 44, 45, 46, 47, 48, 49, 50, 51, 52, 53, 54, 55, 56, 57, 58, 59, 60, 61]\n"
     ]
    }
   ],
   "source": [
    "def getIndex(letter):\n",
    "    index = ord(letter)-48\n",
    "    if (index > 10):\n",
    "        index -= 7\n",
    "    if (index > 35):\n",
    "        index -= 6\n",
    "    return index\n",
    "\n",
    "# process label to number\n",
    "letters = label.unique()\n",
    "print(letters)\n",
    "\n",
    "# checking\n",
    "indexs = []\n",
    "for l in letters:\n",
    "    indexs += [getIndex(l)]\n",
    "\n",
    "print(indexs)\n",
    "for i in range(61):\n",
    "    if (i != indexs[i]):\n",
    "        print(\"error in: \", i)"
   ]
  },
  {
   "cell_type": "code",
   "execution_count": 18,
   "metadata": {},
   "outputs": [
    {
     "name": "stdout",
     "output_type": "stream",
     "text": [
      "data splited\n"
     ]
    }
   ],
   "source": [
    "data_nparr=np.array(ImageData_compressed)\n",
    "# data_nparr=np.array(ImageData_compressed_type2)\n",
    "# data_nparr=np.array(imageDatas)\n",
    "label_nparr=np.array(label)\n",
    "label_index_nparr = np.vectorize(getIndex)(label_nparr)\n",
    "\n",
    "train_data, test_data, train_label, test_label = train_test_split(data_nparr, label_index_nparr, test_size=0.1, random_state=42)\n",
    "print(\"data splited\")"
   ]
  },
  {
   "cell_type": "code",
   "execution_count": 22,
   "metadata": {},
   "outputs": [
    {
     "name": "stdout",
     "output_type": "stream",
     "text": [
      "layer added\n",
      "Model: \"sequential_3\"\n",
      "_________________________________________________________________\n",
      " Layer (type)                Output Shape              Param #   \n",
      "=================================================================\n",
      " conv2d_12 (Conv2D)          (None, 18, 18, 32)        320       \n",
      "                                                                 \n",
      " max_pooling2d_6 (MaxPooling  (None, 9, 9, 32)         0         \n",
      " 2D)                                                             \n",
      "                                                                 \n",
      " conv2d_13 (Conv2D)          (None, 7, 7, 64)          18496     \n",
      "                                                                 \n",
      " max_pooling2d_7 (MaxPooling  (None, 3, 3, 64)         0         \n",
      " 2D)                                                             \n",
      "                                                                 \n",
      " conv2d_14 (Conv2D)          (None, 1, 1, 64)          36928     \n",
      "                                                                 \n",
      " flatten_3 (Flatten)         (None, 64)                0         \n",
      "                                                                 \n",
      " dense_6 (Dense)             (None, 64)                4160      \n",
      "                                                                 \n",
      " dense_7 (Dense)             (None, 62)                4030      \n",
      "                                                                 \n",
      "=================================================================\n",
      "Total params: 63,934\n",
      "Trainable params: 63,934\n",
      "Non-trainable params: 0\n",
      "_________________________________________________________________\n"
     ]
    }
   ],
   "source": [
    "import tensorflow as tf\n",
    "from tensorflow.keras import datasets, layers, models\n",
    "\n",
    "model = models.Sequential()\n",
    "model.add(layers.Conv2D(32, (3, 3), activation='relu', input_shape=(20, 20, 1))) # compressed (20 x 20)\n",
    "# model.add(layers.Conv2D(32, (3, 3), activation='relu', input_shape=(100, 100, 1))) # uncompressed (100 x 100)\n",
    "model.add(layers.MaxPooling2D((2, 2)))\n",
    "model.add(layers.Conv2D(64, (3, 3), activation='relu'))\n",
    "model.add(layers.MaxPooling2D((2, 2)))\n",
    "model.add(layers.Conv2D(64, (3, 3), activation='relu'))\n",
    "\n",
    "model.add(layers.Flatten())\n",
    "model.add(layers.Dense(64, activation='relu'))\n",
    "model.add(layers.Dense(62, activation='softmax'))\n",
    "print(\"layer added\")\n",
    "model.summary()"
   ]
  },
  {
   "cell_type": "code",
   "execution_count": 23,
   "metadata": {},
   "outputs": [
    {
     "name": "stdout",
     "output_type": "stream",
     "text": [
      "======start training======\n",
      "Epoch 1/30\n",
      "96/96 [==============================] - 3s 27ms/step - loss: 4.1274 - accuracy: 0.0173 - val_loss: 4.1336 - val_accuracy: 0.0059\n",
      "Epoch 2/30\n",
      "96/96 [==============================] - 2s 16ms/step - loss: 3.9132 - accuracy: 0.0691 - val_loss: 3.5587 - val_accuracy: 0.1290\n",
      "Epoch 3/30\n",
      "96/96 [==============================] - 2s 18ms/step - loss: 3.0894 - accuracy: 0.1994 - val_loss: 2.8687 - val_accuracy: 0.2757\n",
      "Epoch 4/30\n",
      "96/96 [==============================] - 1s 13ms/step - loss: 2.4219 - accuracy: 0.3708 - val_loss: 2.3170 - val_accuracy: 0.3695\n",
      "Epoch 5/30\n",
      "96/96 [==============================] - 2s 15ms/step - loss: 1.9075 - accuracy: 0.4871 - val_loss: 1.9337 - val_accuracy: 0.4692\n",
      "Epoch 6/30\n",
      "96/96 [==============================] - 2s 17ms/step - loss: 1.5807 - accuracy: 0.5533 - val_loss: 1.7128 - val_accuracy: 0.5073\n",
      "Epoch 7/30\n",
      "96/96 [==============================] - 2s 17ms/step - loss: 1.3564 - accuracy: 0.6129 - val_loss: 1.5350 - val_accuracy: 0.5601\n",
      "Epoch 8/30\n",
      "96/96 [==============================] - 1s 16ms/step - loss: 1.2046 - accuracy: 0.6484 - val_loss: 1.3669 - val_accuracy: 0.6364\n",
      "Epoch 9/30\n",
      "96/96 [==============================] - 2s 18ms/step - loss: 1.0687 - accuracy: 0.6804 - val_loss: 1.3135 - val_accuracy: 0.6246\n",
      "Epoch 10/30\n",
      "96/96 [==============================] - 3s 30ms/step - loss: 0.9786 - accuracy: 0.7097 - val_loss: 1.2468 - val_accuracy: 0.6569\n",
      "Epoch 11/30\n",
      "96/96 [==============================] - 2s 21ms/step - loss: 0.8948 - accuracy: 0.7269 - val_loss: 1.1815 - val_accuracy: 0.6686\n",
      "Epoch 12/30\n",
      "96/96 [==============================] - 2s 21ms/step - loss: 0.8040 - accuracy: 0.7550 - val_loss: 1.1994 - val_accuracy: 0.6540\n",
      "Epoch 13/30\n",
      "96/96 [==============================] - 2s 17ms/step - loss: 0.7633 - accuracy: 0.7602 - val_loss: 1.1639 - val_accuracy: 0.6628\n",
      "Epoch 14/30\n",
      "96/96 [==============================] - 3s 29ms/step - loss: 0.6941 - accuracy: 0.7804 - val_loss: 1.1071 - val_accuracy: 0.6657\n",
      "Epoch 15/30\n",
      "96/96 [==============================] - 2s 25ms/step - loss: 0.6601 - accuracy: 0.7889 - val_loss: 1.0690 - val_accuracy: 0.6804\n",
      "Epoch 16/30\n",
      "96/96 [==============================] - 2s 20ms/step - loss: 0.6096 - accuracy: 0.8068 - val_loss: 1.1227 - val_accuracy: 0.6950\n",
      "Epoch 17/30\n",
      "96/96 [==============================] - 2s 25ms/step - loss: 0.5664 - accuracy: 0.8201 - val_loss: 1.0128 - val_accuracy: 0.7273\n",
      "Epoch 18/30\n",
      "96/96 [==============================] - 2s 23ms/step - loss: 0.5270 - accuracy: 0.8263 - val_loss: 1.0198 - val_accuracy: 0.6950\n",
      "Epoch 19/30\n",
      "96/96 [==============================] - 2s 21ms/step - loss: 0.4786 - accuracy: 0.8377 - val_loss: 1.0692 - val_accuracy: 0.7097\n",
      "Epoch 20/30\n",
      "96/96 [==============================] - 2s 20ms/step - loss: 0.4788 - accuracy: 0.8433 - val_loss: 1.0720 - val_accuracy: 0.7155\n",
      "Epoch 21/30\n",
      "96/96 [==============================] - 2s 21ms/step - loss: 0.4422 - accuracy: 0.8547 - val_loss: 1.1499 - val_accuracy: 0.6862\n",
      "Epoch 22/30\n",
      "96/96 [==============================] - 2s 24ms/step - loss: 0.3986 - accuracy: 0.8680 - val_loss: 0.9835 - val_accuracy: 0.6950\n",
      "Epoch 23/30\n",
      "96/96 [==============================] - 2s 21ms/step - loss: 0.3687 - accuracy: 0.8798 - val_loss: 0.9977 - val_accuracy: 0.7331\n",
      "Epoch 24/30\n",
      "96/96 [==============================] - 2s 19ms/step - loss: 0.3632 - accuracy: 0.8788 - val_loss: 1.0739 - val_accuracy: 0.7214\n",
      "Epoch 25/30\n",
      "96/96 [==============================] - 3s 27ms/step - loss: 0.3467 - accuracy: 0.8843 - val_loss: 1.0437 - val_accuracy: 0.6950\n",
      "Epoch 26/30\n",
      "96/96 [==============================] - 2s 24ms/step - loss: 0.3216 - accuracy: 0.8860 - val_loss: 1.0893 - val_accuracy: 0.6979\n",
      "Epoch 27/30\n",
      "96/96 [==============================] - 2s 23ms/step - loss: 0.2994 - accuracy: 0.8990 - val_loss: 1.0372 - val_accuracy: 0.7302\n",
      "Epoch 28/30\n",
      "96/96 [==============================] - 2s 22ms/step - loss: 0.2757 - accuracy: 0.9114 - val_loss: 1.1291 - val_accuracy: 0.7009\n",
      "Epoch 29/30\n",
      "96/96 [==============================] - 2s 20ms/step - loss: 0.2469 - accuracy: 0.9202 - val_loss: 1.0706 - val_accuracy: 0.7390\n",
      "Epoch 30/30\n",
      "96/96 [==============================] - 2s 21ms/step - loss: 0.2282 - accuracy: 0.9306 - val_loss: 1.1248 - val_accuracy: 0.7097\n",
      "======done training======\n"
     ]
    }
   ],
   "source": [
    "model.compile(optimizer='adam',\n",
    "              loss=tf.keras.losses.SparseCategoricalCrossentropy(from_logits=False),\n",
    "              metrics=['accuracy'])\n",
    "\n",
    "print(\"======start training======\")\n",
    "history = model.fit(train_data, train_label, epochs=30, \n",
    "                    validation_data=(test_data, test_label))\n",
    "print(\"======done training======\")"
   ]
  },
  {
   "cell_type": "code",
   "execution_count": null,
   "metadata": {},
   "outputs": [],
   "source": []
  },
  {
   "cell_type": "code",
   "execution_count": 24,
   "metadata": {},
   "outputs": [
    {
     "name": "stdout",
     "output_type": "stream",
     "text": [
      "11/11 - 0s - loss: 1.1248 - accuracy: 0.7097 - 37ms/epoch - 3ms/step\n"
     ]
    },
    {
     "data": {
      "image/png": "[encoded data removed]",
      "text/plain": [
       "<Figure size 640x480 with 1 Axes>"
      ]
     },
     "metadata": {},
     "output_type": "display_data"
    }
   ],
   "source": [
    "plt.plot(history.history['accuracy'], label='accuracy')\n",
    "plt.plot(history.history['val_accuracy'], label = 'val_accuracy')\n",
    "plt.xlabel('Epoch')\n",
    "plt.ylabel('Accuracy')\n",
    "plt.ylim([0.5, 1])\n",
    "plt.legend(loc='lower right')\n",
    "\n",
    "test_loss, test_acc = model.evaluate(test_data,  test_label, verbose=2)"
   ]
  },
  {
   "cell_type": "code",
   "execution_count": null,
   "metadata": {},
   "outputs": [],
   "source": [
    "print(test_acc)"
   ]
  }
 ],
 "metadata": {
  "kernelspec": {
   "display_name": "Python 3 (ipykernel)",
   "language": "python",
   "name": "python3"
  },
  "language_info": {
   "codemirror_mode": {
    "name": "ipython",
    "version": 3
   },
   "file_extension": ".py",
   "mimetype": "text/x-python",
   "name": "python",
   "nbconvert_exporter": "python",
   "pygments_lexer": "ipython3",
   "version": "3.10.9"
  }
 },
 "nbformat": 4,
 "nbformat_minor": 4
}
