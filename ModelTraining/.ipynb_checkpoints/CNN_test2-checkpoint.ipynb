{
 "cells": [
  {
   "cell_type": "markdown",
   "metadata": {},
   "source": [
    "### Build Our Model"
   ]
  },
  {
   "cell_type": "code",
   "execution_count": 8,
   "metadata": {
    "vscode": {
     "languageId": "plaintext"
    }
   },
   "outputs": [],
   "source": [
    "import tensorflow as tf\n",
    "from tensorflow.keras import datasets, layers, models\n",
    "import numpy as np\n",
    "import pandas as pd\n",
    "import matplotlib.pyplot as plt\n",
    "import os"
   ]
  },
  {
   "cell_type": "code",
   "execution_count": 2,
   "metadata": {},
   "outputs": [
    {
     "name": "stdout",
     "output_type": "stream",
     "text": [
      "=======starting======\n",
      "500\n",
      "1000\n",
      "1500\n",
      "2000\n",
      "2500\n",
      "3000\n",
      "['0' '1' '2' '3' '4' '5' '6' '7' '8' '9' 'A' 'B' 'C' 'D' 'E' 'F' 'G' 'H'\n",
      " 'I' 'J' 'K' 'L' 'M' 'N' 'O' 'P' 'Q' 'R' 'S' 'T' 'U' 'V' 'W' 'X' 'Y' 'Z'\n",
      " 'a' 'b' 'c' 'd' 'e' 'f' 'g' 'h' 'i' 'j' 'k' 'l' 'm' 'n' 'o' 'p' 'q' 'r'\n",
      " 's' 't' 'u' 'v' 'w' 'x' 'y' 'z']\n",
      "=======done======\n"
     ]
    }
   ],
   "source": [
    "from sklearn.model_selection import train_test_split\n",
    "\n",
    "dataset = pd.read_csv('archive/english.csv')\n",
    "directory = \"archive\"\n",
    "\n",
    "imageDatas = []\n",
    "files = dataset[\"image\"]\n",
    "label = dataset[\"label\"]\n",
    "\n",
    "i = 0\n",
    "print(\"=======starting======\")\n",
    "for fileName in files:\n",
    "    image=tf.keras.utils.load_img(os.path.join(directory,fileName),color_mode='grayscale',target_size=(100,100))\n",
    "    image=tf.keras.utils.img_to_array(image)\n",
    "    image=image/255.0\n",
    "    imageDatas+=[image]\n",
    "    i = i + 1\n",
    "    if (i % 500 == 0):\n",
    "        print(i)\n",
    "\n",
    "class_names = dataset[\"label\"].unique()\n",
    "print(class_names)\n",
    "print(\"=======done======\")\n",
    "\n",
    "# X_train, X_test, y_train, y_test = train_test_split(X, y, test_size=0.1, random_state=42)"
   ]
  },
  {
   "cell_type": "code",
   "execution_count": 3,
   "metadata": {},
   "outputs": [
    {
     "data": {
      "image/png": "[encoded data removed]",
      "text/plain": [
       "<Figure size 640x480 with 1 Axes>"
      ]
     },
     "metadata": {},
     "output_type": "display_data"
    },
    {
     "name": "stdout",
     "output_type": "stream",
     "text": [
      "label:  0\n"
     ]
    }
   ],
   "source": [
    "plt.imshow(imageDatas[0])\n",
    "plt.show()\n",
    "\n",
    "print(\"label: \", label[0])\n",
    "# print(imageDatas[0][20])"
   ]
  },
  {
   "cell_type": "code",
   "execution_count": 34,
   "metadata": {},
   "outputs": [
    {
     "name": "stdout",
     "output_type": "stream",
     "text": [
      "(100, 100, 1)\n",
      "=====start compressing=====\n",
      "compressed:  500  imgs\n",
      "compressed:  1000  imgs\n",
      "compressed:  1500  imgs\n",
      "compressed:  2000  imgs\n",
      "compressed:  2500  imgs\n",
      "compressed:  3000  imgs\n",
      "=====done compressing=====\n",
      "(3410, 25, 25, 1)\n"
     ]
    },
    {
     "data": {
      "image/png": "[encoded data removed]",
      "text/plain": [
       "<Figure size 640x480 with 1 Axes>"
      ]
     },
     "metadata": {},
     "output_type": "display_data"
    }
   ],
   "source": [
    "ImageData_compressed = []\n",
    "compressRatio = 4\n",
    "dimention = int(100 / compressRatio)  # final dimention\n",
    "\n",
    "print(np.array(imageDatas[0]).shape) \n",
    "\n",
    "# test = []\n",
    "# test += [imageDatas[0]]\n",
    "count = 0\n",
    "print(\"=====start compressing=====\")\n",
    "for img in imageDatas:\n",
    "    img_compressed = []\n",
    "    for i in range(dimention):\n",
    "        row_compressed = []\n",
    "        for j in range(dimention):\n",
    "            avg = 0\n",
    "            for r in range(compressRatio):\n",
    "                for c in range(compressRatio):\n",
    "                    avg += (img[compressRatio * i + r][compressRatio *j + c]) / compressRatio\n",
    "            row_compressed += [avg/25]\n",
    "            # print(np.array(row_compressed).shape)\n",
    "            \n",
    "        img_compressed += [row_compressed]\n",
    "        # print(np.array(img_compressed).shape)\n",
    "    ImageData_compressed += [img_compressed]\n",
    "    count += 1\n",
    "    if (count % 500 == 0):\n",
    "        print(\"compressed: \", count, \" imgs\" )\n",
    "\n",
    "ImageData_compressed = np.array(ImageData_compressed)\n",
    "print(\"=====done compressing=====\")\n",
    "print(ImageData_compressed.shape)\n",
    "plt.imshow(ImageData_compressed[0])\n",
    "plt.show()"
   ]
  },
  {
   "cell_type": "code",
   "execution_count": 35,
   "metadata": {},
   "outputs": [
    {
     "name": "stdout",
     "output_type": "stream",
     "text": [
      "=======done saving======\n"
     ]
    }
   ],
   "source": [
    "import numpy\n",
    "dimention = \"25x25\"\n",
    "npzFileName = \"Compressed_\" + dimention + \".npz\"\n",
    "\n",
    "# Save compressed data to NPZ file\n",
    "numpy.savez(npzFileName, ImageData_compressed=ImageData_compressed)\n",
    "print(\"=======done saving======\")"
   ]
  },
  {
   "cell_type": "code",
   "execution_count": 10,
   "metadata": {},
   "outputs": [
    {
     "name": "stdout",
     "output_type": "stream",
     "text": [
      "=======done load======\n",
      "(3410, 20, 20, 1)\n"
     ]
    }
   ],
   "source": [
    "import numpy\n",
    "\n",
    "dataset = pd.read_csv('archive/english.csv')\n",
    "directory = \"archive\"\n",
    "\n",
    "imageDatas = []\n",
    "files = dataset[\"image\"]\n",
    "label = dataset[\"label\"]\n",
    "dimention = \"20x20\"\n",
    "npzFileName = \"Compressed_\" + dimention + \".npz\"\n",
    "\n",
    "# Load  compressed image matrix data\n",
    "data = numpy.load(npzFileName)\n",
    "ImageData_compressed = data['ImageData_compressed']\n",
    "print(\"=======done load======\")\n",
    "\n",
    "print(ImageData_compressed.shape)"
   ]
  },
  {
   "cell_type": "code",
   "execution_count": 6,
   "metadata": {},
   "outputs": [],
   "source": [
    "def getIndex(letter):\n",
    "    index = ord(letter)-48\n",
    "    if (index > 10):\n",
    "        index -= 7\n",
    "    if (index > 35):\n",
    "        index -= 6\n",
    "    return index"
   ]
  },
  {
   "cell_type": "code",
   "execution_count": 11,
   "metadata": {},
   "outputs": [
    {
     "name": "stdout",
     "output_type": "stream",
     "text": [
      "data splited\n"
     ]
    }
   ],
   "source": [
    "from sklearn.model_selection import train_test_split\n",
    "data_nparr=ImageData_compressed\n",
    "# data_nparr=np.array(ImageData_compressed_type2)\n",
    "# data_nparr=np.array(imageDatas)\n",
    "label_nparr=np.array(label)\n",
    "label_index_nparr = np.vectorize(getIndex)(label_nparr)\n",
    "\n",
    "train_data, test_data, train_label, test_label = train_test_split(data_nparr, label_index_nparr, test_size=0.1, random_state=42)\n",
    "print(\"data splited\")"
   ]
  },
  {
   "cell_type": "code",
   "execution_count": 12,
   "metadata": {},
   "outputs": [
    {
     "name": "stdout",
     "output_type": "stream",
     "text": [
      "Input shape:  (20, 20, 1)\n",
      "layer added\n",
      "Model: \"sequential\"\n",
      "_________________________________________________________________\n",
      " Layer (type)                Output Shape              Param #   \n",
      "=================================================================\n",
      " conv2d (Conv2D)             (None, 18, 18, 32)        320       \n",
      "                                                                 \n",
      " max_pooling2d (MaxPooling2D  (None, 9, 9, 32)         0         \n",
      " )                                                               \n",
      "                                                                 \n",
      " conv2d_1 (Conv2D)           (None, 7, 7, 64)          18496     \n",
      "                                                                 \n",
      " max_pooling2d_1 (MaxPooling  (None, 3, 3, 64)         0         \n",
      " 2D)                                                             \n",
      "                                                                 \n",
      " conv2d_2 (Conv2D)           (None, 1, 1, 64)          36928     \n",
      "                                                                 \n",
      " flatten (Flatten)           (None, 64)                0         \n",
      "                                                                 \n",
      " dense (Dense)               (None, 64)                4160      \n",
      "                                                                 \n",
      " dense_1 (Dense)             (None, 62)                4030      \n",
      "                                                                 \n",
      "=================================================================\n",
      "Total params: 63,934\n",
      "Trainable params: 63,934\n",
      "Non-trainable params: 0\n",
      "_________________________________________________________________\n"
     ]
    }
   ],
   "source": [
    "import tensorflow as tf\n",
    "from tensorflow.keras import datasets, layers, models\n",
    "\n",
    "print(\"Input shape: \" , data_nparr[0].shape)\n",
    "\n",
    "model = models.Sequential()\n",
    "model.add(layers.Conv2D(32, (3, 3), activation='relu', input_shape=data_nparr[0].shape))\n",
    "model.add(layers.MaxPooling2D((2, 2)))\n",
    "model.add(layers.Conv2D(64, (3, 3), activation='relu'))\n",
    "model.add(layers.MaxPooling2D((2, 2)))\n",
    "model.add(layers.Conv2D(64, (3, 3), activation='relu'))\n",
    "\n",
    "model.add(layers.Flatten())\n",
    "model.add(layers.Dense(64, activation='relu'))\n",
    "model.add(layers.Dense(62, activation='softmax'))\n",
    "print(\"layer added\")\n",
    "model.summary()"
   ]
  },
  {
   "cell_type": "code",
   "execution_count": 13,
   "metadata": {},
   "outputs": [
    {
     "name": "stdout",
     "output_type": "stream",
     "text": [
      "======start training======\n",
      "Epoch 1/20\n",
      "96/96 [==============================] - 5s 43ms/step - loss: 4.1276 - accuracy: 0.0147 - val_loss: 4.1256 - val_accuracy: 0.0147\n",
      "Epoch 2/20\n",
      "96/96 [==============================] - 1s 7ms/step - loss: 4.0222 - accuracy: 0.0349 - val_loss: 3.7951 - val_accuracy: 0.1144\n",
      "Epoch 3/20\n",
      "96/96 [==============================] - 1s 8ms/step - loss: 3.4265 - accuracy: 0.1290 - val_loss: 3.2731 - val_accuracy: 0.1525\n",
      "Epoch 4/20\n",
      "96/96 [==============================] - 1s 6ms/step - loss: 2.9666 - accuracy: 0.2297 - val_loss: 2.9315 - val_accuracy: 0.2581\n",
      "Epoch 5/20\n",
      "96/96 [==============================] - 1s 9ms/step - loss: 2.6452 - accuracy: 0.3066 - val_loss: 2.7070 - val_accuracy: 0.3372\n",
      "Epoch 6/20\n",
      "96/96 [==============================] - 2s 17ms/step - loss: 2.3801 - accuracy: 0.3718 - val_loss: 2.5377 - val_accuracy: 0.3519\n",
      "Epoch 7/20\n",
      "96/96 [==============================] - 2s 24ms/step - loss: 2.1645 - accuracy: 0.4141 - val_loss: 2.3362 - val_accuracy: 0.3812\n",
      "Epoch 8/20\n",
      "96/96 [==============================] - 2s 19ms/step - loss: 1.9742 - accuracy: 0.4699 - val_loss: 2.1410 - val_accuracy: 0.4194\n",
      "Epoch 9/20\n",
      "96/96 [==============================] - 2s 26ms/step - loss: 1.7969 - accuracy: 0.5015 - val_loss: 2.0130 - val_accuracy: 0.4633\n",
      "Epoch 10/20\n",
      "96/96 [==============================] - 2s 24ms/step - loss: 1.6606 - accuracy: 0.5415 - val_loss: 1.9395 - val_accuracy: 0.4516\n",
      "Epoch 11/20\n",
      "96/96 [==============================] - 2s 19ms/step - loss: 1.5468 - accuracy: 0.5679 - val_loss: 1.8062 - val_accuracy: 0.4985\n",
      "Epoch 12/20\n",
      "96/96 [==============================] - 2s 18ms/step - loss: 1.4529 - accuracy: 0.5914 - val_loss: 1.7624 - val_accuracy: 0.5132\n",
      "Epoch 13/20\n",
      "96/96 [==============================] - 2s 18ms/step - loss: 1.3567 - accuracy: 0.6077 - val_loss: 1.6461 - val_accuracy: 0.5367\n",
      "Epoch 14/20\n",
      "96/96 [==============================] - 2s 17ms/step - loss: 1.2901 - accuracy: 0.6243 - val_loss: 1.6335 - val_accuracy: 0.5689\n",
      "Epoch 15/20\n",
      "96/96 [==============================] - 2s 22ms/step - loss: 1.2322 - accuracy: 0.6364 - val_loss: 1.5680 - val_accuracy: 0.5689\n",
      "Epoch 16/20\n",
      "96/96 [==============================] - 2s 18ms/step - loss: 1.1725 - accuracy: 0.6611 - val_loss: 1.5652 - val_accuracy: 0.5630\n",
      "Epoch 17/20\n",
      "96/96 [==============================] - 3s 30ms/step - loss: 1.1174 - accuracy: 0.6641 - val_loss: 1.4973 - val_accuracy: 0.5924\n",
      "Epoch 18/20\n",
      "96/96 [==============================] - 2s 18ms/step - loss: 1.0798 - accuracy: 0.6742 - val_loss: 1.6047 - val_accuracy: 0.5777\n",
      "Epoch 19/20\n",
      "96/96 [==============================] - 2s 23ms/step - loss: 1.0407 - accuracy: 0.6927 - val_loss: 1.4468 - val_accuracy: 0.5894\n",
      "Epoch 20/20\n",
      "96/96 [==============================] - 2s 22ms/step - loss: 0.9864 - accuracy: 0.6979 - val_loss: 1.3943 - val_accuracy: 0.6305\n",
      "======done training======\n"
     ]
    }
   ],
   "source": [
    "model.compile(optimizer='adam',\n",
    "              loss=tf.keras.losses.SparseCategoricalCrossentropy(from_logits=False),\n",
    "              metrics=['accuracy'])\n",
    "\n",
    "print(\"======start training======\")\n",
    "history = model.fit(train_data, train_label, epochs=20, \n",
    "                    validation_data=(test_data, test_label))\n",
    "print(\"======done training======\")"
   ]
  },
  {
   "cell_type": "code",
   "execution_count": 14,
   "metadata": {},
   "outputs": [
    {
     "name": "stdout",
     "output_type": "stream",
     "text": [
      "11/11 - 0s - loss: 1.3943 - accuracy: 0.6305 - 41ms/epoch - 4ms/step\n"
     ]
    },
    {
     "data": {
      "image/png": "[encoded data removed]",
      "text/plain": [
       "<Figure size 640x480 with 1 Axes>"
      ]
     },
     "metadata": {},
     "output_type": "display_data"
    }
   ],
   "source": [
    "plt.plot(history.history['accuracy'], label='accuracy')\n",
    "plt.plot(history.history['val_accuracy'], label = 'val_accuracy')\n",
    "plt.xlabel('Epoch')\n",
    "plt.ylabel('Accuracy')\n",
    "plt.ylim([0.5, 1])\n",
    "plt.legend(loc='lower right')\n",
    "\n",
    "test_loss, test_acc = model.evaluate(test_data,  test_label, verbose=2)"
   ]
  },
  {
   "cell_type": "code",
   "execution_count": 53,
   "metadata": {},
   "outputs": [
    {
     "name": "stdout",
     "output_type": "stream",
     "text": [
      "0.6598240733146667\n"
     ]
    }
   ],
   "source": [
    "print(test_acc)"
   ]
  },
  {
   "cell_type": "code",
   "execution_count": 15,
   "metadata": {},
   "outputs": [
    {
     "data": {
      "text/plain": [
       "(3410, 20, 20, 1)"
      ]
     },
     "execution_count": 15,
     "metadata": {},
     "output_type": "execute_result"
    }
   ],
   "source": [
    "ImageData_compressed.shape"
   ]
  },
  {
   "cell_type": "code",
   "execution_count": 16,
   "metadata": {},
   "outputs": [
    {
     "name": "stdout",
     "output_type": "stream",
     "text": [
      "107/107 [==============================] - 0s 2ms/step\n",
      "(3410, 62)\n",
      "18\n",
      "I\n",
      "1\n",
      "1\n"
     ]
    }
   ],
   "source": [
    "y_pred = model.predict(ImageData_compressed)\n",
    "y_actual = label_index_nparr\n",
    "class_names = ['0' '1' '2' '3' '4' '5' '6' '7' '8' '9' 'A' 'B' 'C' 'D' 'E' 'F' 'G' 'H'\n",
    " 'I' 'J' 'K' 'L' 'M' 'N' 'O' 'P' 'Q' 'R' 'S' 'T' 'U' 'V' 'W' 'X' 'Y' 'Z'\n",
    " 'a' 'b' 'c' 'd' 'e' 'f' 'g' 'h' 'i' 'j' 'k' 'l' 'm' 'n' 'o' 'p' 'q' 'r'\n",
    " 's' 't' 'u' 'v' 'w' 'x' 'y' 'z']\n",
    "class_names = class_names[0]\n",
    "\n",
    "checking = 1002\n",
    "print(y_pred.shape)\n",
    "print(y_actual[checking])\n",
    "print(class_names[y_actual[checking]])\n",
    "print(np.argmax(y_pred[checking]))\n",
    "print(class_names[np.argmax(y_pred[checking])])"
   ]
  },
  {
   "cell_type": "code",
   "execution_count": 17,
   "metadata": {},
   "outputs": [
    {
     "name": "stdout",
     "output_type": "stream",
     "text": [
      "[0, 0, 0, 0, 0, 0, 0, 0, 0, 0, 0, 1, 0, 0, 0, 0, 1, 0, 0, 0, 0, 0, 0, 0, 12, 0, 6, 0, 0, 0, 0, 0, 0, 0, 0, 0, 0, 0, 0, 0, 0, 0, 0, 0, 0, 0, 0, 0, 0, 1, 4, 0, 0, 0, 1, 0, 0, 0, 1, 1, 0, 0]\n",
      "24\n",
      "O\n"
     ]
    }
   ],
   "source": [
    "Result = []\n",
    "oneCharResult = []\n",
    "for letter in range(len(class_names)):\n",
    "    oneCharResult = []\n",
    "    for predicte in range(len(class_names)):\n",
    "        oneCharResult += [0]\n",
    "    Result +=[oneCharResult]\n",
    "\n",
    "allCount = 0\n",
    "count = 0\n",
    "count2 = 0\n",
    "for i in range(3410):\n",
    "    pred = np.argmax(y_pred[i])\n",
    "    actual = y_actual[i]\n",
    "    \n",
    "    \n",
    "    if pred == actual:\n",
    "        count2 = count2 + 1\n",
    "    else:\n",
    "        count = count + 1\n",
    "        actualLetter = int(i/55)\n",
    "        Result[actualLetter][pred] = Result[actualLetter][pred] + 1\n",
    "\n",
    "print(Result[0])\n",
    "print(np.argmax(Result[0]))\n",
    "print(class_names[np.argmax(Result[0])])"
   ]
  },
  {
   "cell_type": "code",
   "execution_count": 27,
   "metadata": {},
   "outputs": [
    {
     "name": "stdout",
     "output_type": "stream",
     "text": [
      "Letter ' 0\n",
      "   - mispredict: [ O ]  12\n",
      "   - mispredict: [ Q ]  6\n",
      "   - mispredict: [ o ]  4\n",
      "Letter ' 1\n",
      "   - mispredict: [ i ]  6\n",
      "Letter ' 2\n",
      "   - mispredict: [ z ]  4\n",
      "Letter ' 4\n",
      "   - mispredict: [ a ]  5\n",
      "   - mispredict: [ q ]  6\n",
      "Letter ' 5\n",
      "   - mispredict: [ 3 ]  8\n",
      "   - mispredict: [ S ]  6\n",
      "Letter ' 6\n",
      "   - mispredict: [ G ]  9\n",
      "Letter ' 7\n",
      "   - mispredict: [ P ]  4\n",
      "   - mispredict: [ T ]  5\n",
      "Letter ' 8\n",
      "   - mispredict: [ B ]  7\n",
      "Letter ' 9\n",
      "   - mispredict: [ 3 ]  5\n",
      "Letter ' A\n",
      "   - mispredict: [ h ]  4\n",
      "Letter ' C\n",
      "   - mispredict: [ c ]  6\n",
      "Letter ' I\n",
      "   - mispredict: [ 1 ]  18\n",
      "Letter ' J\n",
      "   - mispredict: [ j ]  6\n",
      "Letter ' K\n",
      "   - mispredict: [ R ]  6\n",
      "   - mispredict: [ k ]  8\n",
      "Letter ' M\n",
      "   - mispredict: [ H ]  7\n",
      "Letter ' O\n",
      "   - mispredict: [ 0 ]  6\n",
      "   - mispredict: [ o ]  4\n",
      "Letter ' Q\n",
      "   - mispredict: [ G ]  4\n",
      "Letter ' S\n",
      "   - mispredict: [ s ]  6\n",
      "Letter ' V\n",
      "   - mispredict: [ v ]  4\n",
      "Letter ' W\n",
      "   - mispredict: [ N ]  5\n",
      "   - mispredict: [ w ]  7\n",
      "Letter ' Z\n",
      "   - mispredict: [ z ]  5\n",
      "Letter ' g\n",
      "   - mispredict: [ p ]  4\n",
      "   - mispredict: [ q ]  7\n",
      "Letter ' h\n",
      "   - mispredict: [ b ]  4\n",
      "   - mispredict: [ k ]  5\n",
      "Letter ' i\n",
      "   - mispredict: [ 1 ]  5\n",
      "   - mispredict: [ 2 ]  5\n",
      "Letter ' k\n",
      "   - mispredict: [ K ]  4\n",
      "Letter ' l\n",
      "   - mispredict: [ 1 ]  10\n",
      "   - mispredict: [ i ]  6\n",
      "Letter ' n\n",
      "   - mispredict: [ m ]  11\n",
      "Letter ' o\n",
      "   - mispredict: [ 0 ]  5\n",
      "   - mispredict: [ n ]  4\n",
      "Letter ' p\n",
      "   - mispredict: [ P ]  9\n",
      "Letter ' r\n",
      "   - mispredict: [ n ]  7\n",
      "   - mispredict: [ p ]  6\n",
      "Letter ' s\n",
      "   - mispredict: [ S ]  5\n",
      "Letter ' v\n",
      "   - mispredict: [ V ]  4\n",
      "Letter ' w\n",
      "   - mispredict: [ m ]  5\n",
      "Letter ' x\n",
      "   - mispredict: [ z ]  13\n",
      "Letter ' z\n",
      "   - mispredict: [ c ]  5\n",
      "   - mispredict: [ s ]  7\n",
      "[28, 19, 16, 10, 36, 24, 14, 16, 21, 16, 11, 9, 14, 12, 11, 8, 5, 8, 32, 22, 21, 4, 16, 5, 15, 6, 6, 11, 15, 2, 8, 6, 15, 6, 12, 10, 16, 12, 10, 12, 13, 19, 24, 19, 21, 15, 16, 25, 5, 18, 17, 27, 16, 32, 21, 15, 10, 14, 13, 31, 20, 23]\n"
     ]
    }
   ],
   "source": [
    "falsePredict = []\n",
    "\n",
    "for letter in range(len(class_names)):\n",
    "    haveNotPrintLetter = 1\n",
    "    for p in range(len(class_names)):\n",
    "        if Result[letter][p] > 3:\n",
    "            if haveNotPrintLetter == 1:\n",
    "                print(\"Letter '\", class_names[letter])\n",
    "                haveNotPrintLetter = 0\n",
    "            print(\"   - mispredict: [\", class_names[p], \"] \",Result[letter][p])\n",
    "        \n",
    "    falsePredict += [np.sum(Result[letter])]\n",
    "    \n",
    "print(falsePredict)"
   ]
  },
  {
   "cell_type": "raw",
   "metadata": {},
   "source": [
    "\n",
    "Letter ' 0\n",
    "   - mispredict: [ O ]  12\n",
    "   - mispredict: [ Q ]  6\n",
    "   - mispredict: [ o ]  4\n",
    "Letter ' 1\n",
    "   - mispredict: [ i ]  6\n",
    "Letter ' 2\n",
    "   - mispredict: [ z ]  4\n",
    "Letter ' 4\n",
    "   - mispredict: [ a ]  5\n",
    "   - mispredict: [ q ]  6\n",
    "Letter ' 5\n",
    "   - mispredict: [ 3 ]  8\n",
    "   - mispredict: [ S ]  6\n",
    "Letter ' 6\n",
    "   - mispredict: [ G ]  9\n",
    "Letter ' 7\n",
    "   - mispredict: [ P ]  4\n",
    "   - mispredict: [ T ]  5\n",
    "Letter ' 8\n",
    "   - mispredict: [ B ]  7\n",
    "Letter ' 9\n",
    "   - mispredict: [ 3 ]  5\n",
    "Letter ' A\n",
    "   - mispredict: [ h ]  4\n",
    "Letter ' C\n",
    "   - mispredict: [ c ]  6\n",
    "Letter ' I\n",
    "   - mispredict: [ 1 ]  18\n",
    "Letter ' J\n",
    "   - mispredict: [ j ]  6\n",
    "Letter ' K\n",
    "   - mispredict: [ R ]  6\n",
    "   - mispredict: [ k ]  8\n",
    "Letter ' M\n",
    "   - mispredict: [ H ]  7\n",
    "Letter ' O\n",
    "   - mispredict: [ 0 ]  6\n",
    "   - mispredict: [ o ]  4\n",
    "Letter ' Q\n",
    "   - mispredict: [ G ]  4\n",
    "Letter ' S\n",
    "   - mispredict: [ s ]  6\n",
    "Letter ' V\n",
    "   - mispredict: [ v ]  4\n",
    "Letter ' W\n",
    "   - mispredict: [ N ]  5\n",
    "   - mispredict: [ w ]  7\n",
    "Letter ' Z\n",
    "   - mispredict: [ z ]  5\n",
    "Letter ' g\n",
    "   - mispredict: [ p ]  4\n",
    "   - mispredict: [ q ]  7\n",
    "Letter ' h\n",
    "   - mispredict: [ b ]  4\n",
    "   - mispredict: [ k ]  5\n",
    "Letter ' i\n",
    "   - mispredict: [ 1 ]  5\n",
    "   - mispredict: [ 2 ]  5\n",
    "Letter ' k\n",
    "   - mispredict: [ K ]  4\n",
    "Letter ' l\n",
    "   - mispredict: [ 1 ]  10\n",
    "   - mispredict: [ i ]  6\n",
    "Letter ' n\n",
    "   - mispredict: [ m ]  11\n",
    "Letter ' o\n",
    "   - mispredict: [ 0 ]  5\n",
    "   - mispredict: [ n ]  4\n",
    "Letter ' p\n",
    "   - mispredict: [ P ]  9\n",
    "Letter ' r\n",
    "   - mispredict: [ n ]  7\n",
    "   - mispredict: [ p ]  6\n",
    "Letter ' s\n",
    "   - mispredict: [ S ]  5\n",
    "Letter ' v\n",
    "   - mispredict: [ V ]  4\n",
    "Letter ' w\n",
    "   - mispredict: [ m ]  5\n",
    "Letter ' x\n",
    "   - mispredict: [ z ]  13\n",
    "Letter ' z\n",
    "   - mispredict: [ c ]  5\n",
    "   - mispredict: [ s ]  7"
   ]
  }
 ],
 "metadata": {
  "kernelspec": {
   "display_name": "Python 3 (ipykernel)",
   "language": "python",
   "name": "python3"
  },
  "language_info": {
   "codemirror_mode": {
    "name": "ipython",
    "version": 3
   },
   "file_extension": ".py",
   "mimetype": "text/x-python",
   "name": "python",
   "nbconvert_exporter": "python",
   "pygments_lexer": "ipython3",
   "version": "3.10.9"
  }
 },
 "nbformat": 4,
 "nbformat_minor": 4
}
