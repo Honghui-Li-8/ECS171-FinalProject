{
 "cells": [
  {
   "cell_type": "markdown",
   "id": "c6a85fb1-932a-40a9-96f4-87bc97ca94b9",
   "metadata": {},
   "source": [
    "# Data preprocessing functions"
   ]
  },
  {
   "cell_type": "code",
   "execution_count": 1,
   "id": "db90457a-1049-4365-b963-d92c119e4b0f",
   "metadata": {},
   "outputs": [],
   "source": [
    "import tensorflow as tf\n",
    "from tensorflow.keras import datasets, layers, models\n",
    "import numpy as np\n",
    "import pandas as pd\n",
    "import matplotlib.pyplot as plt\n",
    "import os"
   ]
  },
  {
   "cell_type": "markdown",
   "id": "1ecd8189-f60e-4ce8-a61d-4f19d62e43b6",
   "metadata": {},
   "source": [
    "### 1) Load Image from archive, extract grayscale value and normolized to 0-1"
   ]
  },
  {
   "cell_type": "code",
   "execution_count": 2,
   "id": "73466693-9b62-4daf-ac2d-f7b20f41efe4",
   "metadata": {},
   "outputs": [
    {
     "name": "stdout",
     "output_type": "stream",
     "text": [
      "=======starting======\n",
      "500\n",
      "1000\n",
      "1500\n",
      "2000\n",
      "2500\n",
      "3000\n",
      "['0' '1' '2' '3' '4' '5' '6' '7' '8' '9' 'A' 'B' 'C' 'D' 'E' 'F' 'G' 'H'\n",
      " 'I' 'J' 'K' 'L' 'M' 'N' 'O' 'P' 'Q' 'R' 'S' 'T' 'U' 'V' 'W' 'X' 'Y' 'Z'\n",
      " 'a' 'b' 'c' 'd' 'e' 'f' 'g' 'h' 'i' 'j' 'k' 'l' 'm' 'n' 'o' 'p' 'q' 'r'\n",
      " 's' 't' 'u' 'v' 'w' 'x' 'y' 'z']\n",
      "=======done======\n"
     ]
    }
   ],
   "source": [
    "from sklearn.model_selection import train_test_split\n",
    "\n",
    "dataset = pd.read_csv('archive/english.csv')\n",
    "directory = \"archive\"\n",
    "\n",
    "imageDatas = []\n",
    "files = dataset[\"image\"]\n",
    "label = dataset[\"label\"]\n",
    "\n",
    "i = 0\n",
    "print(\"=======starting======\")\n",
    "for fileName in files:\n",
    "    image=tf.keras.utils.load_img(os.path.join(directory,fileName),color_mode='grayscale',target_size=(100,100))\n",
    "    image=tf.keras.utils.img_to_array(image)\n",
    "    image=image/255.0\n",
    "    imageDatas+=[image]\n",
    "    i = i + 1\n",
    "    if (i % 500 == 0):\n",
    "        print(i)\n",
    "\n",
    "class_names = dataset[\"label\"].unique()\n",
    "print(class_names)\n",
    "print(\"=======done======\")"
   ]
  },
  {
   "cell_type": "code",
   "execution_count": 3,
   "id": "14f87b52-3858-458c-81bd-3f66e81f3034",
   "metadata": {},
   "outputs": [
    {
     "data": {
      "image/png": "[encoded data removed]",
      "text/plain": [
       "<Figure size 640x480 with 1 Axes>"
      ]
     },
     "metadata": {},
     "output_type": "display_data"
    },
    {
     "name": "stdout",
     "output_type": "stream",
     "text": [
      "label:  0\n"
     ]
    }
   ],
   "source": [
    "plt.imshow(imageDatas[0])\n",
    "plt.show()\n",
    "\n",
    "print(\"label: \", label[0])"
   ]
  },
  {
   "cell_type": "code",
   "execution_count": 4,
   "id": "82c5a547-66ca-41c6-aa35-65145b60c79f",
   "metadata": {},
   "outputs": [
    {
     "name": "stdout",
     "output_type": "stream",
     "text": [
      "=======done saving======\n"
     ]
    }
   ],
   "source": [
    "import numpy\n",
    "dimention = \"100x100\"\n",
    "npzFileName = \"Uncompressed_\" + dimention + \".npz\"\n",
    "\n",
    "imageDatas_np = np.array(imageDatas)\n",
    "# Save compressed data to NPZ file\n",
    "numpy.savez(npzFileName, imageDatas_np=imageDatas_np)\n",
    "print(\"=======done saving======\")"
   ]
  },
  {
   "cell_type": "markdown",
   "id": "e3974d84-c26d-4249-bdb3-2857f445df2e",
   "metadata": {},
   "source": [
    "### 2) Center the letter"
   ]
  },
  {
   "cell_type": "code",
   "execution_count": 6,
   "id": "4147e8b6-16fa-47cd-9e1c-739022c1290e",
   "metadata": {},
   "outputs": [],
   "source": [
    "def centerChar(Img):\n",
    "    dimension = len(Img)\n",
    "    location = locatChar(Img)\n",
    "    \n",
    "    resultImg = []\n",
    "    for i in range(dimension):\n",
    "        row = []\n",
    "        for j in range(dimension):\n",
    "            row += [[np.float32(1.0)]]\n",
    "            \n",
    "        resultImg += [row]\n",
    "    \n",
    "    offset_row = int((dimension-(location[1] + 1 -location[0]))/2)    \n",
    "    offset_col = int((dimension-(location[3] + 1 -location[2]))/2)\n",
    "    \n",
    "    for i in range(0, location[1] + 1 - location[0]):\n",
    "        for j in range(0, location[3] + 1 - location[2]):\n",
    "            resultImg[i + offset_row][j + offset_col][0] = Img[i + location[0]][j + location[2]][0]\n",
    "    \n",
    "    \n",
    "    resultImg = np.array(resultImg)\n",
    "    return resultImg\n",
    "    \n",
    "def locatChar(Img):\n",
    "    dimension = len(Img)\n",
    "    top = dimension\n",
    "    bottom = 0\n",
    "    left = dimension\n",
    "    right = 0\n",
    "    \n",
    "    for i in range(dimension):\n",
    "        for j in range(dimension):\n",
    "            if Img[i][j][0] < 0.2:\n",
    "                if top > i:\n",
    "                    top = i\n",
    "                if bottom < i:\n",
    "                    bottom = i\n",
    "                if left > j:\n",
    "                    left = j\n",
    "                if right < j:\n",
    "                    right = j\n",
    "    return [top, bottom, left, right]"
   ]
  },
  {
   "cell_type": "code",
   "execution_count": 9,
   "id": "0dc70434-fafa-49f6-87c6-f71e3f667607",
   "metadata": {},
   "outputs": [
    {
     "name": "stdout",
     "output_type": "stream",
     "text": [
      "=====start processing=====\n",
      "processed:  500  imgs\n",
      "processed:  1000  imgs\n",
      "processed:  1500  imgs\n",
      "processed:  2000  imgs\n",
      "processed:  2500  imgs\n",
      "processed:  3000  imgs\n",
      "=====finish processing=====\n",
      "(3410, 100, 100, 1)\n"
     ]
    }
   ],
   "source": [
    "ImageData_centered = []\n",
    "count = 0\n",
    "print(\"=====start processing=====\")\n",
    "for img in imageDatas:\n",
    "    img_c = centerChar(img)\n",
    "    ImageData_centered += [img_c]\n",
    "    \n",
    "    count += 1\n",
    "    if (count % 500 == 0):\n",
    "        print(\"processed: \", count, \" imgs\" )\n",
    "\n",
    "print(\"=====finish processing=====\")\n",
    "\n",
    "ImageData_centered = np.array(ImageData_centered)\n",
    "print(ImageData_centered.shape)"
   ]
  },
  {
   "cell_type": "code",
   "execution_count": 11,
   "id": "af8c3807-6cad-4c38-af92-e365763197d0",
   "metadata": {},
   "outputs": [
    {
     "data": {
      "image/png": "[encoded data removed]",
      "text/plain": [
       "<Figure size 640x480 with 1 Axes>"
      ]
     },
     "metadata": {},
     "output_type": "display_data"
    },
    {
     "data": {
      "image/png": "[encoded data removed]",
      "text/plain": [
       "<Figure size 640x480 with 1 Axes>"
      ]
     },
     "metadata": {},
     "output_type": "display_data"
    }
   ],
   "source": [
    "plt.imshow(imageDatas[2578])\n",
    "plt.show()\n",
    "plt.imshow(ImageData_centered[2578])\n",
    "plt.show()"
   ]
  },
  {
   "cell_type": "code",
   "execution_count": 12,
   "id": "efaae79f-1328-49ed-9a79-325932efdc6c",
   "metadata": {},
   "outputs": [
    {
     "name": "stdout",
     "output_type": "stream",
     "text": [
      "=======done saving======\n"
     ]
    }
   ],
   "source": [
    "import numpy\n",
    "dimention = \"100x100\"\n",
    "npzFileName = \"Centered_\" + dimention + \".npz\"\n",
    "\n",
    "# Save compressed data to NPZ file\n",
    "numpy.savez(npzFileName, ImageData_centered=ImageData_centered)\n",
    "print(\"=======done saving======\")"
   ]
  },
  {
   "cell_type": "markdown",
   "id": "cea36c2a-df55-43d5-b219-1174e5355834",
   "metadata": {},
   "source": [
    "### 3) Coustomized Dataset splitting & onehot encoding"
   ]
  },
  {
   "cell_type": "code",
   "execution_count": 13,
   "id": "a5d81e72-86f7-4c22-85bf-2011dd87f040",
   "metadata": {},
   "outputs": [],
   "source": [
    "def getIndex(letter):\n",
    "    index = ord(letter)-48\n",
    "    if (index > 10):\n",
    "        index -= 7\n",
    "    if (index > 35):\n",
    "        index -= 6\n",
    "    return index"
   ]
  },
  {
   "cell_type": "code",
   "execution_count": 14,
   "id": "0a6b8733-7079-4f61-b43d-d1a2cf6d619e",
   "metadata": {},
   "outputs": [
    {
     "name": "stdout",
     "output_type": "stream",
     "text": [
      "(3410,)\n",
      "(620,)\n",
      "(2790, 100, 100, 1)\n"
     ]
    }
   ],
   "source": [
    "import random\n",
    "\n",
    "data_nparr = ImageData_centered\n",
    "label_nparr = np.array(label)\n",
    "\n",
    "test_index = []\n",
    "# Randomly select 6 items from each group of 55\n",
    "selected_indices = []\n",
    "print(label_nparr.shape)\n",
    "for i in range(0, len(label_nparr), 55):\n",
    "    charGroup = data_nparr[i:i+55]\n",
    "    indices = random.sample(range(i, i+55), 10)\n",
    "    test_index.extend(indices)\n",
    "\n",
    "test_index_nparr = np.array(test_index)\n",
    "print(test_index_nparr.shape)\n",
    "\n",
    "train_data, test_data, train_label, test_label = [], [], [], []\n",
    "for i in range(len(label_nparr)):\n",
    "    if i in test_index:\n",
    "        test_data += [data_nparr[i]]\n",
    "        test_label += [getIndex(label_nparr[i])]\n",
    "    else:\n",
    "        train_data += [data_nparr[i]]\n",
    "        train_label += [getIndex(label_nparr[i])]\n",
    "\n",
    "train_data = np.array(train_data)\n",
    "test_data = np.array(test_data)\n",
    "train_label = np.array(train_label)\n",
    "test_label = np.array(test_label)\n",
    "\n",
    "train_label_onehot = pd.get_dummies(train_label) # one-hot enc\n",
    "test_label_onehot = pd.get_dummies(test_label) # one-hot enc\n",
    "\n",
    "print(train_data.shape)"
   ]
  },
  {
   "cell_type": "markdown",
   "id": "2c50de32-93b6-4ab2-adeb-8c279c6349ee",
   "metadata": {},
   "source": [
    "# Data preporcessing attemps (not utlized in final model)"
   ]
  },
  {
   "cell_type": "markdown",
   "id": "9ae893c5-b73f-4f0d-928c-89e9903f2089",
   "metadata": {},
   "source": [
    "### 1) Dataset augmentation"
   ]
  },
  {
   "cell_type": "code",
   "execution_count": 17,
   "id": "6feb2040-4051-469c-b306-f2f9661ab218",
   "metadata": {},
   "outputs": [],
   "source": [
    "import tensorflow as tf\n",
    "from tensorflow.keras.preprocessing import image\n",
    "from PIL import Image\n",
    "\n",
    "def apply_rotation_augmentation(images):\n",
    "    # Convert the images to TensorFlow tensors\n",
    "    images_tensor = tf.convert_to_tensor(images)\n",
    "\n",
    "    # Reshape the images tensor to (some_amount, height, width, channels)\n",
    "    images_tensor = tf.reshape(images_tensor, [len(images), 100, 100, 1])\n",
    "\n",
    "    # Generate random rotation angles between -5 and 5 degrees for each image\n",
    "    rotation_angles = tf.random.uniform(shape=[len(images)], minval=-10, maxval=10)\n",
    "\n",
    "    # Apply rotation augmentation and resize to each image\n",
    "    rotated_images = []\n",
    "    for i in range(len(images)):\n",
    "        img = tf.keras.preprocessing.image.array_to_img(images_tensor[i])\n",
    "        img = img.rotate(rotation_angles[i])\n",
    "        img = img.resize((116, 116), resample=Image.NEAREST)\n",
    "        img = img.crop((8, 8, 108, 108)) \n",
    "        rotated_img = tf.keras.preprocessing.image.img_to_array(img)\n",
    "        rotated_images.append(rotated_img)\n",
    "    \n",
    "    rotated_images = tf.convert_to_tensor(rotated_images)\n",
    "\n",
    "    return rotated_images"
   ]
  },
  {
   "cell_type": "code",
   "execution_count": 18,
   "id": "1a05bda8-2bca-4cca-8b81-178101e351ab",
   "metadata": {},
   "outputs": [
    {
     "name": "stdout",
     "output_type": "stream",
     "text": [
      "=============Start Augmentation=============\n",
      "processed  500  Img\n",
      "processed  1000  Img\n",
      "processed  1500  Img\n",
      "processed  2000  Img\n",
      "processed  2500  Img\n",
      "=============Finish Augmentation=============\n",
      "(5580, 100, 100, 1)\n"
     ]
    }
   ],
   "source": [
    "train_data_augmented = train_data\n",
    "print(\"=============Start Augmentation=============\")\n",
    "for i in range(5):\n",
    "    train_data_augmented = np.concatenate((train_data_augmented, apply_rotation_augmentation(train_data[i * 500:(i + 1) * 500])), axis=0)\n",
    "    print(\"processed \", (i + 1) * 500, \" Img\")\n",
    "    \n",
    "train_data_augmented = np.concatenate((train_data_augmented, apply_rotation_augmentation(train_data[2500:2790])), axis=0)\n",
    "print(\"=============Finish Augmentation=============\")\n",
    "print(train_data_augmented.shape)"
   ]
  },
  {
   "cell_type": "code",
   "execution_count": 20,
   "id": "d1dd378c-750c-4a45-9eb0-235c76962db9",
   "metadata": {},
   "outputs": [
    {
     "name": "stdout",
     "output_type": "stream",
     "text": [
      "(2790,)\n",
      "(5580, 62)\n"
     ]
    }
   ],
   "source": [
    "train_label_augmented = np.concatenate((train_label, train_label), axis=0)\n",
    "train_label_augmented_onehot = pd.get_dummies(train_label_augmented)\n",
    "print(train_label.shape)\n",
    "print(train_label_augmented_onehot.shape)"
   ]
  },
  {
   "cell_type": "code",
   "execution_count": 21,
   "id": "fdddbf61-5d30-4def-a934-f00c4e148a00",
   "metadata": {},
   "outputs": [
    {
     "data": {
      "image/png": "[encoded data removed]",
      "text/plain": [
       "<Figure size 640x480 with 1 Axes>"
      ]
     },
     "metadata": {},
     "output_type": "display_data"
    },
    {
     "data": {
      "image/png": "[encoded data removed]",
      "text/plain": [
       "<Figure size 640x480 with 1 Axes>"
      ]
     },
     "metadata": {},
     "output_type": "display_data"
    }
   ],
   "source": [
    "index_check = 1000;\n",
    "plt.imshow(train_data_augmented[index_check])\n",
    "plt.show()\n",
    "plt.imshow(train_data_augmented[index_check + 2790])\n",
    "plt.show()"
   ]
  },
  {
   "cell_type": "markdown",
   "id": "4c9e488a-9615-47bd-8a2e-1d2b194e1b1d",
   "metadata": {},
   "source": [
    "### 2) Compress Image matrix"
   ]
  },
  {
   "cell_type": "code",
   "execution_count": 22,
   "id": "78bab5b4-c817-4af7-a0a3-0724003921be",
   "metadata": {},
   "outputs": [
    {
     "name": "stdout",
     "output_type": "stream",
     "text": [
      "(100, 100, 1)\n",
      "=====start compressing=====\n",
      "compressed:  500  imgs\n",
      "compressed:  1000  imgs\n",
      "compressed:  1500  imgs\n",
      "compressed:  2000  imgs\n",
      "compressed:  2500  imgs\n",
      "compressed:  3000  imgs\n",
      "=====done compressing=====\n",
      "(3410, 20, 20, 1)\n"
     ]
    },
    {
     "data": {
      "image/png": "[encoded data removed]",
      "text/plain": [
       "<Figure size 640x480 with 1 Axes>"
      ]
     },
     "metadata": {},
     "output_type": "display_data"
    }
   ],
   "source": [
    "ImageData_compressed = []\n",
    "\n",
    "print(np.array(imageDatas[0]).shape) \n",
    "\n",
    "\n",
    "count = 0\n",
    "print(\"=====start compressing=====\")\n",
    "for img in imageDatas:\n",
    "    img_compressed = []\n",
    "    for i in range(20):\n",
    "        row_compressed = []\n",
    "        for j in range(20):\n",
    "            sum = 0\n",
    "            for r in range(5):\n",
    "                for c in range(5):\n",
    "                    sum += img[5 * i + r][5 *j + c]\n",
    "            row_compressed += [sum/25]\n",
    "            # print(np.array(row_compressed).shape)\n",
    "            \n",
    "        img_compressed += [row_compressed]\n",
    "        # print(np.array(img_compressed).shape)\n",
    "    ImageData_compressed += [img_compressed]\n",
    "    count += 1\n",
    "    if (count % 500 == 0):\n",
    "        print(\"compressed: \", count, \" imgs\" )\n",
    "\n",
    "print(\"=====done compressing=====\")\n",
    "print(np.array(ImageData_compressed).shape)\n",
    "plt.imshow(ImageData_compressed[0])\n",
    "# print(ImageData_compressed[0])\n",
    "plt.show()"
   ]
  },
  {
   "cell_type": "code",
   "execution_count": 23,
   "id": "bd99820f-ba3d-4293-b921-44965f3557e2",
   "metadata": {},
   "outputs": [
    {
     "data": {
      "image/png": "[encoded data removed]",
      "text/plain": [
       "<Figure size 640x480 with 1 Axes>"
      ]
     },
     "metadata": {},
     "output_type": "display_data"
    }
   ],
   "source": [
    "plt.imshow(ImageData_compressed[1032])\n",
    "plt.show()"
   ]
  },
  {
   "cell_type": "code",
   "execution_count": null,
   "id": "ad57fce5-3a73-4e71-bff9-2288763e0237",
   "metadata": {},
   "outputs": [],
   "source": []
  }
 ],
 "metadata": {
  "kernelspec": {
   "display_name": "Python 3 (ipykernel)",
   "language": "python",
   "name": "python3"
  },
  "language_info": {
   "codemirror_mode": {
    "name": "ipython",
    "version": 3
   },
   "file_extension": ".py",
   "mimetype": "text/x-python",
   "name": "python",
   "nbconvert_exporter": "python",
   "pygments_lexer": "ipython3",
   "version": "3.11.3"
  }
 },
 "nbformat": 4,
 "nbformat_minor": 5
}
