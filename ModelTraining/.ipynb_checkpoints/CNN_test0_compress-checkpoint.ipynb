{
 "cells": [
  {
   "cell_type": "markdown",
   "metadata": {},
   "source": [
    "### Build Our Model"
   ]
  },
  {
   "cell_type": "code",
   "execution_count": 8,
   "metadata": {
    "vscode": {
     "languageId": "plaintext"
    }
   },
   "outputs": [],
   "source": [
    "import tensorflow as tf\n",
    "from tensorflow.keras import datasets, layers, models\n",
    "import numpy as np\n",
    "import pandas as pd\n",
    "import matplotlib.pyplot as plt\n",
    "import os"
   ]
  },
  {
   "cell_type": "code",
   "execution_count": 6,
   "metadata": {},
   "outputs": [
    {
     "name": "stdout",
     "output_type": "stream",
     "text": [
      "=======starting======\n",
      "500\n",
      "1000\n",
      "1500\n",
      "2000\n",
      "2500\n",
      "3000\n",
      "['0' '1' '2' '3' '4' '5' '6' '7' '8' '9' 'A' 'B' 'C' 'D' 'E' 'F' 'G' 'H'\n",
      " 'I' 'J' 'K' 'L' 'M' 'N' 'O' 'P' 'Q' 'R' 'S' 'T' 'U' 'V' 'W' 'X' 'Y' 'Z'\n",
      " 'a' 'b' 'c' 'd' 'e' 'f' 'g' 'h' 'i' 'j' 'k' 'l' 'm' 'n' 'o' 'p' 'q' 'r'\n",
      " 's' 't' 'u' 'v' 'w' 'x' 'y' 'z']\n",
      "=======done======\n"
     ]
    }
   ],
   "source": [
    "from sklearn.model_selection import train_test_split\n",
    "\n",
    "dataset = pd.read_csv('archive/english.csv')\n",
    "directory = \"archive\"\n",
    "\n",
    "imageDatas = []\n",
    "files = dataset[\"image\"]\n",
    "label = dataset[\"label\"]\n",
    "\n",
    "i = 0\n",
    "print(\"=======starting======\")\n",
    "for fileName in files:\n",
    "    image=tf.keras.utils.load_img(os.path.join(directory,fileName),color_mode='grayscale',target_size=(100,100))\n",
    "    image=tf.keras.utils.img_to_array(image)\n",
    "    image=image/255.0\n",
    "    imageDatas+=[image]\n",
    "    i = i + 1\n",
    "    if (i % 500 == 0):\n",
    "        print(i)\n",
    "\n",
    "class_names = dataset[\"label\"].unique()\n",
    "print(class_names)\n",
    "print(\"=======done======\")\n",
    "\n",
    "# X_train, X_test, y_train, y_test = train_test_split(X, y, test_size=0.1, random_state=42)"
   ]
  },
  {
   "cell_type": "code",
   "execution_count": 7,
   "metadata": {},
   "outputs": [
    {
     "data": {
      "image/png": "[encoded data removed]",
      "text/plain": [
       "<Figure size 640x480 with 1 Axes>"
      ]
     },
     "metadata": {},
     "output_type": "display_data"
    },
    {
     "name": "stdout",
     "output_type": "stream",
     "text": [
      "label:  0\n"
     ]
    }
   ],
   "source": [
    "# varify the image data\n",
    "directory = \"archive\"\n",
    "showingImage=tf.keras.utils.load_img(os.path.join(directory,files[0]),color_mode='grayscale',target_size=(100,100))\n",
    "plt.imshow(imageDatas[0])\n",
    "plt.show()\n",
    "\n",
    "print(\"label: \", label[0])\n",
    "# print(imageDatas[0][20])"
   ]
  },
  {
   "cell_type": "code",
   "execution_count": 3,
   "metadata": {},
   "outputs": [
    {
     "name": "stdout",
     "output_type": "stream",
     "text": [
      "=======done load======\n",
      "(3410, 100, 100, 1)\n"
     ]
    }
   ],
   "source": [
    "import numpy\n",
    "import pandas as pd\n",
    "import numpy as np\n",
    "\n",
    "dataset = pd.read_csv('archive/english.csv')\n",
    "directory = \"archive\"\n",
    "\n",
    "imageDatas = []\n",
    "files = dataset[\"image\"]\n",
    "label = dataset[\"label\"]\n",
    "dimention = \"100x100\"\n",
    "npzFileName = \"Uncompressed_\" + dimention + \".npz\"\n",
    "\n",
    "# Load  compressed image matrix data\n",
    "data = numpy.load(npzFileName)\n",
    "imageDatas = data['imageDatas_np']\n",
    "print(\"=======done load======\")\n",
    "\n",
    "print(imageDatas.shape)"
   ]
  },
  {
   "cell_type": "code",
   "execution_count": 6,
   "metadata": {},
   "outputs": [
    {
     "name": "stdout",
     "output_type": "stream",
     "text": [
      "(100, 100, 1)\n",
      "=====start compressing=====\n",
      "compressed:  500  imgs\n",
      "compressed:  1000  imgs\n",
      "compressed:  1500  imgs\n",
      "compressed:  2000  imgs\n",
      "compressed:  2500  imgs\n",
      "compressed:  3000  imgs\n",
      "=====done compressing=====\n",
      "(3410, 20, 20, 1)\n"
     ]
    },
    {
     "ename": "NameError",
     "evalue": "name 'plt' is not defined",
     "output_type": "error",
     "traceback": [
      "\u001b[1;31m---------------------------------------------------------------------------\u001b[0m",
      "\u001b[1;31mNameError\u001b[0m                                 Traceback (most recent call last)",
      "Cell \u001b[1;32mIn[6], line 30\u001b[0m\n\u001b[0;32m     28\u001b[0m \u001b[38;5;28mprint\u001b[39m(\u001b[38;5;124m\"\u001b[39m\u001b[38;5;124m=====done compressing=====\u001b[39m\u001b[38;5;124m\"\u001b[39m)\n\u001b[0;32m     29\u001b[0m \u001b[38;5;28mprint\u001b[39m(np\u001b[38;5;241m.\u001b[39marray(ImageData_compressed)\u001b[38;5;241m.\u001b[39mshape)\n\u001b[1;32m---> 30\u001b[0m plt\u001b[38;5;241m.\u001b[39mimshow(ImageData_compressed[\u001b[38;5;241m0\u001b[39m])\n\u001b[0;32m     31\u001b[0m \u001b[38;5;66;03m# print(ImageData_compressed[0])\u001b[39;00m\n\u001b[0;32m     32\u001b[0m plt\u001b[38;5;241m.\u001b[39mshow()\n",
      "\u001b[1;31mNameError\u001b[0m: name 'plt' is not defined"
     ]
    }
   ],
   "source": [
    "ImageData_compressed = []\n",
    "\n",
    "print(np.array(imageDatas[0]).shape) \n",
    "\n",
    "# test = []\n",
    "# test += [imageDatas[0]]\n",
    "count = 0\n",
    "print(\"=====start compressing=====\")\n",
    "for img in imageDatas:\n",
    "    img_compressed = []\n",
    "    for i in range(20):\n",
    "        row_compressed = []\n",
    "        for j in range(20):\n",
    "            sum = 0\n",
    "            for r in range(5):\n",
    "                for c in range(5):\n",
    "                    sum += img[5 * i + r][5 *j + c]\n",
    "            row_compressed += [sum/25]\n",
    "            # print(np.array(row_compressed).shape)\n",
    "            \n",
    "        img_compressed += [row_compressed]\n",
    "        # print(np.array(img_compressed).shape)\n",
    "    ImageData_compressed += [img_compressed]\n",
    "    count += 1\n",
    "    if (count % 500 == 0):\n",
    "        print(\"compressed: \", count, \" imgs\" )\n",
    "\n",
    "print(\"=====done compressing=====\")\n",
    "print(np.array(ImageData_compressed).shape)\n",
    "plt.imshow(ImageData_compressed[0])\n",
    "# print(ImageData_compressed[0])\n",
    "plt.show()"
   ]
  },
  {
   "cell_type": "code",
   "execution_count": 7,
   "metadata": {},
   "outputs": [
    {
     "name": "stdout",
     "output_type": "stream",
     "text": [
      "['0' '1' '2' '3' '4' '5' '6' '7' '8' '9' 'A' 'B' 'C' 'D' 'E' 'F' 'G' 'H'\n",
      " 'I' 'J' 'K' 'L' 'M' 'N' 'O' 'P' 'Q' 'R' 'S' 'T' 'U' 'V' 'W' 'X' 'Y' 'Z'\n",
      " 'a' 'b' 'c' 'd' 'e' 'f' 'g' 'h' 'i' 'j' 'k' 'l' 'm' 'n' 'o' 'p' 'q' 'r'\n",
      " 's' 't' 'u' 'v' 'w' 'x' 'y' 'z']\n",
      "[0, 1, 2, 3, 4, 5, 6, 7, 8, 9, 10, 11, 12, 13, 14, 15, 16, 17, 18, 19, 20, 21, 22, 23, 24, 25, 26, 27, 28, 29, 30, 31, 32, 33, 34, 35, 36, 37, 38, 39, 40, 41, 42, 43, 44, 45, 46, 47, 48, 49, 50, 51, 52, 53, 54, 55, 56, 57, 58, 59, 60, 61]\n"
     ]
    }
   ],
   "source": [
    "def getIndex(letter):\n",
    "    index = ord(letter)-48\n",
    "    if (index > 10):\n",
    "        index -= 7\n",
    "    if (index > 35):\n",
    "        index -= 6\n",
    "    return index\n",
    "\n",
    "# process label to number\n",
    "letters = label.unique()\n",
    "print(letters)\n",
    "\n",
    "# checking\n",
    "indexs = []\n",
    "for l in letters:\n",
    "    indexs += [getIndex(l)]\n",
    "\n",
    "print(indexs)\n",
    "for i in range(61):\n",
    "    if (i != indexs[i]):\n",
    "        print(\"error in: \", i)"
   ]
  },
  {
   "cell_type": "code",
   "execution_count": 9,
   "metadata": {},
   "outputs": [
    {
     "name": "stdout",
     "output_type": "stream",
     "text": [
      "data splited\n"
     ]
    }
   ],
   "source": [
    "from sklearn.model_selection import train_test_split\n",
    "\n",
    "data_nparr=np.array(ImageData_compressed)\n",
    "# data_nparr=np.array(ImageData_compressed_type2)\n",
    "# data_nparr=np.array(imageDatas)\n",
    "label_nparr=np.array(label)\n",
    "label_index_nparr = np.vectorize(getIndex)(label_nparr)\n",
    "\n",
    "train_data, test_data, train_label, test_label = train_test_split(data_nparr, label_index_nparr, test_size=0.1, random_state=42)\n",
    "print(\"data splited\")"
   ]
  },
  {
   "cell_type": "code",
   "execution_count": 19,
   "metadata": {},
   "outputs": [
    {
     "name": "stdout",
     "output_type": "stream",
     "text": [
      "layer added\n",
      "Model: \"sequential_3\"\n",
      "_________________________________________________________________\n",
      " Layer (type)                Output Shape              Param #   \n",
      "=================================================================\n",
      " conv2d_6 (Conv2D)           (None, 18, 18, 32)        320       \n",
      "                                                                 \n",
      " max_pooling2d_5 (MaxPooling  (None, 9, 9, 32)         0         \n",
      " 2D)                                                             \n",
      "                                                                 \n",
      " conv2d_7 (Conv2D)           (None, 7, 7, 64)          18496     \n",
      "                                                                 \n",
      " max_pooling2d_6 (MaxPooling  (None, 3, 3, 64)         0         \n",
      " 2D)                                                             \n",
      "                                                                 \n",
      " flatten_3 (Flatten)         (None, 576)               0         \n",
      "                                                                 \n",
      " dense_6 (Dense)             (None, 128)               73856     \n",
      "                                                                 \n",
      " dense_7 (Dense)             (None, 62)                7998      \n",
      "                                                                 \n",
      "=================================================================\n",
      "Total params: 100,670\n",
      "Trainable params: 100,670\n",
      "Non-trainable params: 0\n",
      "_________________________________________________________________\n"
     ]
    }
   ],
   "source": [
    "import tensorflow as tf\n",
    "from tensorflow.keras import datasets, layers, models\n",
    "\n",
    "model = models.Sequential()\n",
    "model.add(layers.Conv2D(32, (3, 3), activation='relu', input_shape=(20, 20, 1))) # compressed (20 x 20)\n",
    "model.add(layers.MaxPooling2D((2, 2)))\n",
    "model.add(layers.Conv2D(64, (3, 3), activation='relu'))\n",
    "model.add(layers.MaxPooling2D((2, 2)))\n",
    "\n",
    "model.add(layers.Flatten())\n",
    "model.add(layers.Dense(128, activation='relu'))\n",
    "model.add(layers.Dense(62, activation='softmax'))\n",
    "print(\"layer added\")\n",
    "model.summary()"
   ]
  },
  {
   "cell_type": "code",
   "execution_count": 20,
   "metadata": {},
   "outputs": [
    {
     "name": "stdout",
     "output_type": "stream",
     "text": [
      "======start training======\n",
      "Epoch 1/15\n",
      "96/96 [==============================] - 1s 7ms/step - loss: 4.1218 - accuracy: 0.0192 - val_loss: 4.0981 - val_accuracy: 0.0205\n",
      "Epoch 2/15\n",
      "96/96 [==============================] - 1s 6ms/step - loss: 3.6090 - accuracy: 0.1284 - val_loss: 3.1090 - val_accuracy: 0.2199\n",
      "Epoch 3/15\n",
      "96/96 [==============================] - 1s 6ms/step - loss: 2.5443 - accuracy: 0.3509 - val_loss: 2.2622 - val_accuracy: 0.3988\n",
      "Epoch 4/15\n",
      "96/96 [==============================] - 1s 6ms/step - loss: 1.9070 - accuracy: 0.5005 - val_loss: 1.8781 - val_accuracy: 0.4839\n",
      "Epoch 5/15\n",
      "96/96 [==============================] - 1s 6ms/step - loss: 1.5403 - accuracy: 0.5823 - val_loss: 1.6294 - val_accuracy: 0.5630\n",
      "Epoch 6/15\n",
      "96/96 [==============================] - 1s 6ms/step - loss: 1.3188 - accuracy: 0.6380 - val_loss: 1.5093 - val_accuracy: 0.5924\n",
      "Epoch 7/15\n",
      "96/96 [==============================] - 1s 6ms/step - loss: 1.1619 - accuracy: 0.6706 - val_loss: 1.4139 - val_accuracy: 0.6364\n",
      "Epoch 8/15\n",
      "96/96 [==============================] - 1s 6ms/step - loss: 1.0331 - accuracy: 0.7142 - val_loss: 1.3289 - val_accuracy: 0.6305\n",
      "Epoch 9/15\n",
      "96/96 [==============================] - 1s 6ms/step - loss: 0.9204 - accuracy: 0.7286 - val_loss: 1.2586 - val_accuracy: 0.6422\n",
      "Epoch 10/15\n",
      "96/96 [==============================] - 1s 6ms/step - loss: 0.8449 - accuracy: 0.7572 - val_loss: 1.2481 - val_accuracy: 0.6276\n",
      "Epoch 11/15\n",
      "96/96 [==============================] - 1s 6ms/step - loss: 0.7575 - accuracy: 0.7748 - val_loss: 1.2626 - val_accuracy: 0.6452\n",
      "Epoch 12/15\n",
      "96/96 [==============================] - 1s 6ms/step - loss: 0.6947 - accuracy: 0.7921 - val_loss: 1.2053 - val_accuracy: 0.6628\n",
      "Epoch 13/15\n",
      "96/96 [==============================] - 1s 6ms/step - loss: 0.6341 - accuracy: 0.8172 - val_loss: 1.1919 - val_accuracy: 0.6569\n",
      "Epoch 14/15\n",
      "96/96 [==============================] - 1s 6ms/step - loss: 0.6008 - accuracy: 0.8172 - val_loss: 1.1545 - val_accuracy: 0.6891\n",
      "Epoch 15/15\n",
      "96/96 [==============================] - 1s 6ms/step - loss: 0.5163 - accuracy: 0.8475 - val_loss: 1.1482 - val_accuracy: 0.6804\n",
      "======done training======\n"
     ]
    }
   ],
   "source": [
    "model.compile(optimizer='adam',\n",
    "              loss=tf.keras.losses.SparseCategoricalCrossentropy(from_logits=False),\n",
    "              metrics=['accuracy'])\n",
    "\n",
    "print(\"======start training======\")\n",
    "history = model.fit(train_data, train_label, epochs=15, \n",
    "                    validation_data=(test_data, test_label))\n",
    "print(\"======done training======\")"
   ]
  },
  {
   "cell_type": "code",
   "execution_count": 22,
   "metadata": {},
   "outputs": [
    {
     "name": "stdout",
     "output_type": "stream",
     "text": [
      "======model saved======\n"
     ]
    }
   ],
   "source": [
    "# save model\n",
    "# model.save('../CNN_ver0_compressedImg.h5')\n",
    "# print(\"======model saved======\")"
   ]
  },
  {
   "cell_type": "code",
   "execution_count": 21,
   "metadata": {},
   "outputs": [
    {
     "name": "stdout",
     "output_type": "stream",
     "text": [
      "11/11 - 0s - loss: 1.1482 - accuracy: 0.6804 - 31ms/epoch - 3ms/step\n"
     ]
    },
    {
     "data": {
      "image/png": "[encoded data removed]",
      "text/plain": [
       "<Figure size 640x480 with 1 Axes>"
      ]
     },
     "metadata": {},
     "output_type": "display_data"
    }
   ],
   "source": [
    "plt.plot(history.history['accuracy'], label='accuracy')\n",
    "plt.plot(history.history['val_accuracy'], label = 'val_accuracy')\n",
    "plt.xlabel('Epoch')\n",
    "plt.ylabel('Accuracy')\n",
    "plt.ylim([0.5, 1])\n",
    "plt.legend(loc='lower right')\n",
    "\n",
    "test_loss, test_acc = model.evaluate(test_data,  test_label, verbose=2)"
   ]
  },
  {
   "cell_type": "code",
   "execution_count": null,
   "metadata": {},
   "outputs": [],
   "source": [
    "print(test_acc)"
   ]
  },
  {
   "cell_type": "markdown",
   "metadata": {},
   "source": [
    "# Model Performence Analyze"
   ]
  },
  {
   "cell_type": "code",
   "execution_count": 1,
   "metadata": {},
   "outputs": [
    {
     "name": "stdout",
     "output_type": "stream",
     "text": [
      "======model loaded======\n"
     ]
    }
   ],
   "source": [
    "from keras.models import load_model\n",
    "\n",
    "# Load the saved model\n",
    "model = load_model('../CNN_ver0_compressedImg.h5')\n",
    "print(\"======model loaded======\")"
   ]
  },
  {
   "cell_type": "code",
   "execution_count": 22,
   "metadata": {},
   "outputs": [
    {
     "name": "stdout",
     "output_type": "stream",
     "text": [
      "11/11 [==============================] - 0s 2ms/step\n",
      "(341,)\n",
      "              precision    recall  f1-score   support\n",
      "\n",
      "           0       0.50      1.00      0.67         8\n",
      "           1       0.33      0.17      0.22         6\n",
      "           2       0.83      0.83      0.83         6\n",
      "           3       0.73      0.73      0.73        11\n",
      "           4       1.00      0.50      0.67         8\n",
      "           5       0.88      0.58      0.70        12\n",
      "           6       0.50      1.00      0.67         2\n",
      "           7       1.00      0.78      0.88         9\n",
      "           8       0.50      0.50      0.50         4\n",
      "           9       0.33      0.33      0.33         3\n",
      "           A       1.00      0.80      0.89         5\n",
      "           B       0.25      1.00      0.40         1\n",
      "           C       1.00      0.60      0.75         5\n",
      "           D       0.83      1.00      0.91         5\n",
      "           E       0.86      0.75      0.80         8\n",
      "           F       1.00      0.71      0.83         7\n",
      "           G       1.00      0.80      0.89         5\n",
      "           H       0.67      0.67      0.67         3\n",
      "           I       0.30      0.38      0.33         8\n",
      "           J       0.33      0.67      0.44         3\n",
      "           K       1.00      0.38      0.55         8\n",
      "           L       0.67      0.67      0.67         3\n",
      "           M       1.00      1.00      1.00         5\n",
      "           N       1.00      0.80      0.89         5\n",
      "           O       1.00      0.17      0.29         6\n",
      "           P       1.00      1.00      1.00         2\n",
      "           Q       1.00      0.71      0.83         7\n",
      "           R       0.80      0.67      0.73         6\n",
      "           S       0.60      0.75      0.67         4\n",
      "           T       0.86      1.00      0.92         6\n",
      "           U       0.50      0.40      0.44         5\n",
      "           V       0.43      0.75      0.55         4\n",
      "           W       0.62      0.71      0.67         7\n",
      "           X       1.00      0.67      0.80         3\n",
      "           Y       0.50      0.33      0.40         3\n",
      "           Z       1.00      0.50      0.67         2\n",
      "           a       1.00      0.67      0.80         3\n",
      "           b       0.29      1.00      0.44         2\n",
      "           c       0.50      1.00      0.67         2\n",
      "           d       0.67      1.00      0.80         4\n",
      "           e       0.75      0.50      0.60         6\n",
      "           f       0.83      1.00      0.91         5\n",
      "           g       0.33      0.80      0.47         5\n",
      "           h       0.50      0.50      0.50         4\n",
      "           i       0.67      0.80      0.73         5\n",
      "           j       1.00      0.80      0.89         5\n",
      "           k       0.75      0.50      0.60         6\n",
      "           l       0.43      0.50      0.46         6\n",
      "           m       1.00      0.86      0.92         7\n",
      "           n       0.60      0.75      0.67         8\n",
      "           o       1.00      0.67      0.80         9\n",
      "           p       0.40      1.00      0.57         2\n",
      "           q       1.00      0.88      0.93         8\n",
      "           r       0.75      0.75      0.75         4\n",
      "           s       0.80      0.73      0.76        11\n",
      "           t       0.55      1.00      0.71         6\n",
      "           u       0.75      0.50      0.60         6\n",
      "           v       0.50      0.17      0.25         6\n",
      "           w       0.57      0.67      0.62         6\n",
      "           x       0.50      0.75      0.60         8\n",
      "           y       1.00      0.20      0.33         5\n",
      "           z       0.75      0.86      0.80         7\n",
      "\n",
      "    accuracy                           0.68       341\n",
      "   macro avg       0.72      0.70      0.67       341\n",
      "weighted avg       0.75      0.68      0.68       341\n",
      "\n"
     ]
    }
   ],
   "source": [
    "from sklearn.metrics import classification_report\n",
    "\n",
    "# Function to convert one-hot encoded label to label index\n",
    "def get_result(prob_array):\n",
    "    return np.argmax(prob_array)\n",
    "\n",
    "y_pred = model.predict(test_data)\n",
    "y_pred_result = np.apply_along_axis(get_result, axis=1, arr=y_pred)\n",
    "\n",
    "\n",
    "class_names = ['0' '1' '2' '3' '4' '5' '6' '7' '8' '9' 'A' 'B' 'C' 'D' 'E' 'F' 'G' 'H'\n",
    " 'I' 'J' 'K' 'L' 'M' 'N' 'O' 'P' 'Q' 'R' 'S' 'T' 'U' 'V' 'W' 'X' 'Y' 'Z'\n",
    " 'a' 'b' 'c' 'd' 'e' 'f' 'g' 'h' 'i' 'j' 'k' 'l' 'm' 'n' 'o' 'p' 'q' 'r'\n",
    " 's' 't' 'u' 'v' 'w' 'x' 'y' 'z']\n",
    "class_names = class_names[0]\n",
    "\n",
    "print(y_pred_result.shape)\n",
    "print(classification_report(test_label, y_pred_result, target_names=class_names,  zero_division=1))"
   ]
  },
  {
   "cell_type": "code",
   "execution_count": 23,
   "metadata": {},
   "outputs": [
    {
     "data": {
      "image/png": "[encoded data removed]",
      "text/plain": [
       "<Figure size 1200x1000 with 2 Axes>"
      ]
     },
     "metadata": {},
     "output_type": "display_data"
    }
   ],
   "source": [
    "import matplotlib.pyplot as plt\n",
    "import seaborn as sns\n",
    "from sklearn.metrics import confusion_matrix\n",
    "\n",
    "# Compute the confusion matrix\n",
    "cm = confusion_matrix(test_label, y_pred_result)\n",
    "\n",
    "\n",
    "# Plot the confusion matrix as a heat map\n",
    "plt.figure(figsize=(12, 10))\n",
    "sns.heatmap(cm, annot=False, cmap=\"coolwarm\", fmt=\"d\", xticklabels=class_names, yticklabels=class_names)\n",
    "plt.xlabel(\"Predicted Labels\")\n",
    "plt.ylabel(\"True Labels\")\n",
    "plt.title(\"CNN Confusion Matrix\")\n",
    "plt.show()"
   ]
  },
  {
   "cell_type": "code",
   "execution_count": null,
   "metadata": {},
   "outputs": [],
   "source": []
  }
 ],
 "metadata": {
  "kernelspec": {
   "display_name": "Python 3 (ipykernel)",
   "language": "python",
   "name": "python3"
  },
  "language_info": {
   "codemirror_mode": {
    "name": "ipython",
    "version": 3
   },
   "file_extension": ".py",
   "mimetype": "text/x-python",
   "name": "python",
   "nbconvert_exporter": "python",
   "pygments_lexer": "ipython3",
   "version": "3.11.3"
  }
 },
 "nbformat": 4,
 "nbformat_minor": 4
}
